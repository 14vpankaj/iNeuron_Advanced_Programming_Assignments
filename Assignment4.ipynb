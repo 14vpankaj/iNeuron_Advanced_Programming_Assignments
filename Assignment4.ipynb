{
 "cells": [
  {
   "cell_type": "markdown",
   "id": "36eaad9e",
   "metadata": {},
   "source": [
    "### 1. In mathematics, the Fibonacci numbers, commonly denoted Fn, form a sequence, called the Fibonacci sequence, such that each number is the sum of the two preceding ones, starting from 0 and 1:\n",
    "\n",
    "    The beginning of the sequence is this:\n",
    "    0, 1, 1, 2, 3, 5, 8, 13, 21, 34, 55, 89, 144, ...\n",
    "    The function fastFib(num) returns the fibonacci number Fn, of the given num as an argument.\n",
    "    Examples\n",
    "    fib_fast(5) ➞ 5\n",
    "    fib_fast(10) ➞ 55\n",
    "    fib_fast(20) ➞ 6765\n",
    "    fib_fast(50) ➞ 12586269025"
   ]
  },
  {
   "cell_type": "code",
   "execution_count": 6,
   "id": "166cb9fd",
   "metadata": {},
   "outputs": [
    {
     "name": "stdout",
     "output_type": "stream",
     "text": [
      "5\n",
      "13\n",
      "21\n",
      "55\n"
     ]
    }
   ],
   "source": [
    "def fib_fast(n):\n",
    "    fib = []\n",
    "    f1,f2 = 0,1\n",
    "    while f2 < n:\n",
    "        f1,f2 = f2,f1+f2\n",
    "        fib.append(f1)\n",
    "    return fib[-1] + fib[-2]  #fn = fn-1 + fn-2\n",
    "\n",
    "print(fib_fast(5))\n",
    "print(fib_fast(10))\n",
    "print(fib_fast(20))\n",
    "print(fib_fast(50))"
   ]
  },
  {
   "cell_type": "code",
   "execution_count": 7,
   "id": "99ce80ef",
   "metadata": {},
   "outputs": [
    {
     "name": "stdout",
     "output_type": "stream",
     "text": [
      "55\n"
     ]
    }
   ],
   "source": [
    "def fib_fast(n):\n",
    "    fib = []\n",
    "    a,b = 0,1\n",
    "    while b < n:\n",
    "        a,b = b,a+b\n",
    "        fib.append(a) #creating the fibo list\n",
    "    return fib[-1] + fib[-2]  #fn = fn-1 + fn-2\n",
    "\n",
    "print(fib_fast(50))"
   ]
  },
  {
   "cell_type": "markdown",
   "id": "54693cda",
   "metadata": {},
   "source": [
    "### 2. Create a function that takes a strings characters as ASCII and returns each characters hexadecimal value as a string.\n",
    "\n",
    "    Examples\n",
    "    convert_to_hex(\"hello world\") ➞ \"68 65 6c 6c 6f 20 77 6f 72 6c 64\"\n",
    "    convert_to_hex(\"Big Boi\") ➞ \"42 69 67 20 42 6f 69\"\n",
    "    convert_to_hex(\"Marty Poppinson\") ➞ \"4d 61 72 74 79 20 50 6f 70 70 69 6e 73 6f 6e\""
   ]
  },
  {
   "cell_type": "code",
   "execution_count": 11,
   "id": "5a207084",
   "metadata": {},
   "outputs": [
    {
     "name": "stdout",
     "output_type": "stream",
     "text": [
      "68 65 6c 6c 6f 20 77 6f 72 6c 64\n",
      "42 69 67 20 42 6f 69\n",
      "4d 61 72 74 79 20 50 6f 70 70 69 6e 73 6f 6e\n"
     ]
    }
   ],
   "source": [
    "def convert_to_hex(str):\n",
    "    hexa_value = []\n",
    "    for i in range(len(str)):\n",
    "        char = str[i]\n",
    "        asci = ord(char)\n",
    "        hexa = hex(asci).lstrip('0x')\n",
    "        hexa_value.append(hexa)\n",
    "    return ' '.join(hexa_value)\n",
    "\n",
    "print(convert_to_hex(\"hello world\"))\n",
    "print(convert_to_hex(\"Big Boi\"))\n",
    "print(convert_to_hex(\"Marty Poppinson\"))"
   ]
  },
  {
   "cell_type": "markdown",
   "id": "59b30dda",
   "metadata": {},
   "source": [
    "### 3. Someone has attempted to censor my strings by replacing every vowel with a *, l*k* th*s. Luckily, I've been able to find the vowels that were removed.\n",
    "\n",
    "    Given a censored string and a string of the censored vowels, return the original uncensored string.\n",
    "    Example\n",
    "    uncensor(\"Wh*r* d*d my v*w*ls g*?\", \"eeioeo\") ➞ \"Where did my vowels go?\"\n",
    "    uncensor(\"abcd\", \"\") ➞ \"abcd\"\n",
    "    uncensor(\"*PP*RC*S*\", \"UEAE\") ➞ \"UPPERCASE\""
   ]
  },
  {
   "cell_type": "code",
   "execution_count": 16,
   "id": "d0e21c81",
   "metadata": {},
   "outputs": [
    {
     "name": "stdout",
     "output_type": "stream",
     "text": [
      "Where did my vowels go?\n",
      "abcd\n",
      "UPPERCASE\n"
     ]
    }
   ],
   "source": [
    "def uncensor(string, vowel):\n",
    "    new_string = ''\n",
    "    j = 0\n",
    "    for i in range(len(string)):\n",
    "        if string[i] == '*':\n",
    "            new_string += vowel[j]\n",
    "            j += 1\n",
    "        else:\n",
    "            new_string += string[i]\n",
    "    return new_string\n",
    "\n",
    "print(uncensor(\"Wh*r* d*d my v*w*ls g*?\", \"eeioeo\"))\n",
    "print(uncensor(\"abcd\", \"\"))\n",
    "print(uncensor(\"*PP*RC*S*\", \"UEAE\"))"
   ]
  },
  {
   "cell_type": "markdown",
   "id": "4756083d",
   "metadata": {},
   "source": [
    "### 4. Write a function that takes an IP address and returns the domain name using PTR DNS records.\n",
    "\n",
    "    Example\n",
    "    get_domain(\"8.8.8.8\") ➞ \"dns.google\"\n",
    "    get_domain(\"8.8.4.4\") ➞ \"dns.google\""
   ]
  },
  {
   "cell_type": "code",
   "execution_count": 17,
   "id": "478995fa",
   "metadata": {},
   "outputs": [
    {
     "name": "stdout",
     "output_type": "stream",
     "text": [
      "Collecting dnspython\n",
      "  Downloading dnspython-2.2.0-py3-none-any.whl (266 kB)\n",
      "Installing collected packages: dnspython\n",
      "Successfully installed dnspython-2.2.0\n"
     ]
    }
   ],
   "source": [
    "!pip install dnspython"
   ]
  },
  {
   "cell_type": "code",
   "execution_count": 18,
   "id": "71b05c58",
   "metadata": {},
   "outputs": [
    {
     "name": "stdout",
     "output_type": "stream",
     "text": [
      "dns.google.\n",
      "dns.google.\n"
     ]
    }
   ],
   "source": [
    "from dns import reversename\n",
    "from dns import resolver\n",
    "\n",
    "def get_domain(ipAdd):\n",
    "\n",
    "    domain_address = reversename.from_address(ipAdd)\n",
    "    domain_name = str(resolver.resolve(domain_address,\"PTR\")[0])\n",
    "    return domain_name\n",
    "\n",
    "print(get_domain(\"8.8.8.8\"))\n",
    "print(get_domain(\"8.8.4.4\"))"
   ]
  },
  {
   "cell_type": "markdown",
   "id": "f30d472e",
   "metadata": {},
   "source": [
    "### 5. Create a function that takes an integer n and returns the factorial of factorials. See below examples for a better understanding:\n",
    "\n",
    "    Examples\n",
    "    fact_of_fact(4) ➞ 288\n",
    "    # 4! * 3! * 2! * 1! = 288\n",
    "    fact_of_fact(5) ➞ 34560\n",
    "    fact_of_fact(6) ➞ 24883200"
   ]
  },
  {
   "cell_type": "code",
   "execution_count": 26,
   "id": "d55ec0a5",
   "metadata": {},
   "outputs": [
    {
     "name": "stdout",
     "output_type": "stream",
     "text": [
      "288\n",
      "34560\n",
      "24883200\n"
     ]
    }
   ],
   "source": [
    "def factorial(n):\n",
    "    if n == 0:\n",
    "        return 1\n",
    "    elif n ==1:\n",
    "        return 1\n",
    "    else:\n",
    "        return n * factorial(n-1)\n",
    "\n",
    "def fact_of_fact(n):\n",
    "    if n == 0:\n",
    "        return 1\n",
    "    elif n ==1:\n",
    "        return 1\n",
    "    else:\n",
    "        return factorial(n) * fact_of_fact(n-1)\n",
    "    \n",
    "print(fact_of_fact(4))\n",
    "print(fact_of_fact(5))\n",
    "print(fact_of_fact(6))"
   ]
  },
  {
   "cell_type": "code",
   "execution_count": null,
   "id": "64323714",
   "metadata": {},
   "outputs": [],
   "source": []
  },
  {
   "cell_type": "code",
   "execution_count": null,
   "id": "5da62a57",
   "metadata": {},
   "outputs": [],
   "source": []
  }
 ],
 "metadata": {
  "kernelspec": {
   "display_name": "Python 3",
   "language": "python",
   "name": "python3"
  },
  "language_info": {
   "codemirror_mode": {
    "name": "ipython",
    "version": 3
   },
   "file_extension": ".py",
   "mimetype": "text/x-python",
   "name": "python",
   "nbconvert_exporter": "python",
   "pygments_lexer": "ipython3",
   "version": "3.8.8"
  }
 },
 "nbformat": 4,
 "nbformat_minor": 5
}
