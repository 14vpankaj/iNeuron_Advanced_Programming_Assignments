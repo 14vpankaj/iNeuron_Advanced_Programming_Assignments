{
 "cells": [
  {
   "cell_type": "markdown",
   "id": "e9cd260d",
   "metadata": {},
   "source": [
    "### 1. Create a function that takes the width, height and character and returns a picture frame as a 2D list.\n",
    "\n",
    "    Examples\n",
    "    get_frame(4, 5, \"#\") ➞ [\n",
    "      [\"####\"],\n",
    "      [\"#  #\"],\n",
    "      [\"#  #\"],\n",
    "      [\"#  #\"],\n",
    "      [\"####\"]\n",
    "    ]\n",
    "    # Frame is 4 characters wide and 5 characters tall.\n",
    "\n",
    "    get_frame(10, 3, \"*\") ➞ [\n",
    "      [\"**********\"],\n",
    "      [\"*        *\"],\n",
    "      [\"**********\"]\n",
    "    ]\n",
    "    # Frame is 10 characters and wide and 3 characters tall.\n",
    "\n",
    "    get_frame(2, 5, \"0\") ➞ \"invalid\"\n",
    "    # Frame's width is not more than 2."
   ]
  },
  {
   "cell_type": "code",
   "execution_count": 2,
   "id": "0bf063eb",
   "metadata": {},
   "outputs": [
    {
     "name": "stdout",
     "output_type": "stream",
     "text": [
      "['####']\n",
      "['#  #']\n",
      "['#  #']\n",
      "['#  #']\n",
      "['####']\n"
     ]
    }
   ],
   "source": [
    "def get_frame(m, n,sign) :\n",
    "    row = []\n",
    "    frame = []\n",
    "    boxStr = '' \n",
    "    if m <= 2 or n <= 2:\n",
    "        return \"invalid\"\n",
    "    for i in range(1, n+1) :\n",
    "        boxStr = ''\n",
    "        row = []\n",
    "        for j in range(1, m+1) :\n",
    "            if (i == 1 or i == n or\n",
    "                j == 1 or j == m) :\n",
    "                boxStr = boxStr + sign\n",
    "            else :\n",
    "                boxStr = boxStr + ' '\n",
    "        row.append(boxStr)\n",
    "        frame.append(row)\n",
    "    for i in frame:\n",
    "        print(i)\n",
    "    #return frame\n",
    "    \n",
    "get_frame(4, 5, '#')"
   ]
  },
  {
   "cell_type": "code",
   "execution_count": 3,
   "id": "094ac44f",
   "metadata": {},
   "outputs": [
    {
     "name": "stdout",
     "output_type": "stream",
     "text": [
      "['**********']\n",
      "['*        *']\n",
      "['**********']\n"
     ]
    }
   ],
   "source": [
    "get_frame(10, 3, '*')"
   ]
  },
  {
   "cell_type": "code",
   "execution_count": 4,
   "id": "bb9bd4f1",
   "metadata": {},
   "outputs": [
    {
     "data": {
      "text/plain": [
       "'invalid'"
      ]
     },
     "execution_count": 4,
     "metadata": {},
     "output_type": "execute_result"
    }
   ],
   "source": [
    "get_frame(2, 5, '0')"
   ]
  },
  {
   "cell_type": "markdown",
   "id": "5083bbbe",
   "metadata": {},
   "source": [
    "### 2. Write three functions:\n",
    "\n",
    "    1. boolean_and\n",
    "    2. boolean_or\n",
    "    3. boolean_xor\n",
    "    These functions should evaluate a list of True and False values, starting from the leftmost element and evaluating pairwise.\n",
    "    Examples\n",
    "    boolean_and([True, True, False, True]) ➞ False\n",
    "    # [True, True, False, True] => [True, False, True] => [False, True] => False\n",
    "    boolean_or([True, True, False, False]) ➞ True\n",
    "    # [True, True, False, True] => [True, False, False] => [True, False] => True\n",
    "    boolean_xor([True, True, False, False]) ➞ False\n",
    "    # [True, True, False, False] => [False, False, False] => [False, False] => False"
   ]
  },
  {
   "cell_type": "code",
   "execution_count": 5,
   "id": "0b859211",
   "metadata": {},
   "outputs": [
    {
     "name": "stdout",
     "output_type": "stream",
     "text": [
      "False\n",
      "True\n",
      "False\n"
     ]
    }
   ],
   "source": [
    "from functools import reduce\n",
    "\n",
    "def boolean_and(items):\n",
    "    status = reduce(lambda a,b: True if (a & b) else False, items)\n",
    "    return status\n",
    "\n",
    "def boolean_or(items):\n",
    "    status = reduce(lambda a,b: True if (a | b) else False, items)\n",
    "    return status\n",
    "\n",
    "def boolean_xor(items):\n",
    "    status = reduce(lambda a,b: True if (a ^ b) else False, items)\n",
    "    return status\n",
    "\n",
    "print(boolean_and([True, True, False, True]))\n",
    "print(boolean_or([True, True, False, False]))\n",
    "print(boolean_xor([True, True, False, False]))"
   ]
  },
  {
   "cell_type": "markdown",
   "id": "3d624d07",
   "metadata": {},
   "source": [
    "### 3. Create a function that creates a box based on dimension n.\n",
    "\n",
    "Examples\n",
    "\n",
    "    make_box(5) ➞ [\n",
    "      \"#####\",\n",
    "      \"#   #\",\n",
    "      \"#   #\",\n",
    "      \"#   #\",\n",
    "      \"#####\"\n",
    "    ]\n",
    "\n",
    "    make_box(3) ➞ [\n",
    "      \"###\",\n",
    "      \"# #\",\n",
    "      \"###\"\n",
    "    ]\n",
    "\n",
    "    make_box(2) ➞ [\n",
    "      \"##\",\n",
    "      \"##\"\n",
    "    ]\n",
    "\n",
    "    make_box(1) ➞ [\n",
    "      \"#\"\n",
    "    ]"
   ]
  },
  {
   "cell_type": "code",
   "execution_count": 11,
   "id": "77a75a46",
   "metadata": {},
   "outputs": [
    {
     "name": "stdout",
     "output_type": "stream",
     "text": [
      "#####\n",
      "#   #\n",
      "#   #\n",
      "#   #\n",
      "#####\n"
     ]
    }
   ],
   "source": [
    "def make_box(n) :\n",
    "    box = []\n",
    "    boxStr =''\n",
    "    for i in range(1, n+1) :\n",
    "        boxStr = ''\n",
    "        for j in range(1, n+1) :\n",
    "            if (i == 1 or i == n or\n",
    "                j == 1 or j == n) :           \n",
    "                boxStr = boxStr + '#'\n",
    "            else :\n",
    "                boxStr = boxStr + ' '\n",
    "        box.append(boxStr)\n",
    "    for i in range(len(box)):\n",
    "        print(box[i],end='\\n')\n",
    "\n",
    "make_box(5)"
   ]
  },
  {
   "cell_type": "code",
   "execution_count": 12,
   "id": "6f02e786",
   "metadata": {},
   "outputs": [
    {
     "name": "stdout",
     "output_type": "stream",
     "text": [
      "###\n",
      "# #\n",
      "###\n"
     ]
    }
   ],
   "source": [
    "make_box(3)"
   ]
  },
  {
   "cell_type": "code",
   "execution_count": 13,
   "id": "fa7a8ab5",
   "metadata": {},
   "outputs": [
    {
     "name": "stdout",
     "output_type": "stream",
     "text": [
      "##\n",
      "##\n"
     ]
    }
   ],
   "source": [
    "make_box(2)"
   ]
  },
  {
   "cell_type": "code",
   "execution_count": 14,
   "id": "e2cc396f",
   "metadata": {},
   "outputs": [
    {
     "name": "stdout",
     "output_type": "stream",
     "text": [
      "#\n"
     ]
    }
   ],
   "source": [
    "make_box(1)"
   ]
  },
  {
   "cell_type": "markdown",
   "id": "f63934d8",
   "metadata": {},
   "source": [
    "### 4. Given a common phrase, return False if any individual word in the phrase contains duplicate letters. Return True otherwise.\n",
    "\n",
    "    Examples\n",
    "    no_duplicate_letters(\"Fortune favours the bold.\") ➞ True\n",
    "    no_duplicate_letters(\"You can lead a horse to water, but you can't make him drink.\") ➞ True\n",
    "    no_duplicate_letters(\"Look before you leap.\") ➞ False\n",
    "    # Duplicate letters in \"Look\" and \"before\".\n",
    "    no_duplicate_letters(\"An apple a day keeps the doctor away.\") ➞ False\n",
    "    # Duplicate letters in \"apple\", \"keeps\", \"doctor\", and \"away\"."
   ]
  },
  {
   "cell_type": "code",
   "execution_count": 17,
   "id": "2d5d71dd",
   "metadata": {},
   "outputs": [
    {
     "name": "stdout",
     "output_type": "stream",
     "text": [
      "True\n",
      "True\n",
      "False\n",
      "False\n"
     ]
    }
   ],
   "source": [
    "def no_duplicate_letters(text):\n",
    "     \n",
    "    lst = text.split(' ')\n",
    "    for word in lst:\n",
    "        for i in range(len(word)):\n",
    "            for j in range(i + 1,len(word)):\n",
    "                if(word[i] == word[j]):\n",
    "                    return False;\n",
    "\n",
    "        # If no duplicate characters, return true\n",
    "    return True; \n",
    "\n",
    "print(no_duplicate_letters(\"Fortune favours the bold.\"))\n",
    "print(no_duplicate_letters(\"You can lead a horse to water, but you can't make him drink.\"))\n",
    "print(no_duplicate_letters(\"Look before you leap.\"))\n",
    "print(no_duplicate_letters(\"An apple a day keeps the doctor away.\"))"
   ]
  },
  {
   "cell_type": "markdown",
   "id": "eaa03231",
   "metadata": {},
   "source": [
    "### 5. Write a regular expression that will match the states that voted yes to President Trump's impeachment. You must use RegEx positive lookahead.\n",
    "\n",
    "    Example\n",
    "    txt = \"Texas = no, California = yes, Florida = yes, Michigan = no\"\n",
    "    pattern = \"yourregularexpressionhere\"\n",
    "    re.findall(pattern, txt) ➞ [\"California\", \"Florida\"]"
   ]
  },
  {
   "cell_type": "code",
   "execution_count": 2,
   "id": "5cc8646f",
   "metadata": {},
   "outputs": [
    {
     "name": "stdout",
     "output_type": "stream",
     "text": [
      "['California', 'Florida']\n"
     ]
    }
   ],
   "source": [
    "import re\n",
    "txt = \"Texas = no, California = yes, Florida = yes, Michigan = no\"\n",
    "pattern = r'\\w+(?= = yes)'\n",
    "result = re.findall(pattern, txt) \n",
    "print(result)"
   ]
  },
  {
   "cell_type": "code",
   "execution_count": null,
   "id": "c9b85e33",
   "metadata": {},
   "outputs": [],
   "source": []
  }
 ],
 "metadata": {
  "kernelspec": {
   "display_name": "Python 3",
   "language": "python",
   "name": "python3"
  },
  "language_info": {
   "codemirror_mode": {
    "name": "ipython",
    "version": 3
   },
   "file_extension": ".py",
   "mimetype": "text/x-python",
   "name": "python",
   "nbconvert_exporter": "python",
   "pygments_lexer": "ipython3",
   "version": "3.8.8"
  }
 },
 "nbformat": 4,
 "nbformat_minor": 5
}
