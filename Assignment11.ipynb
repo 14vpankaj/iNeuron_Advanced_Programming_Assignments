{
 "cells": [
  {
   "cell_type": "markdown",
   "id": "eede2bb4",
   "metadata": {},
   "source": [
    "### 1. Create a function that takes a list and returns a new list containing only prime numbers.\n",
    "\n",
    "    Examples\n",
    "    filter_primes([7, 9, 3, 9, 10, 11, 27]) ➞ [7, 3, 11]\n",
    "    filter_primes([10007, 1009, 1007, 27, 147, 77, 1001, 70]) ➞ [10007, 1009]\n",
    "    filter_primes([1009, 10, 10, 10, 3, 33, 9, 4, 1, 61, 63, 69, 1087, 1091, 1093, 1097]) ➞ [1009, 3, 61, 1087, 1091, 1093, 1097]"
   ]
  },
  {
   "cell_type": "code",
   "execution_count": 1,
   "id": "2d51ff27",
   "metadata": {},
   "outputs": [
    {
     "name": "stdout",
     "output_type": "stream",
     "text": [
      "[7, 3, 11]\n",
      "[10007, 1009]\n",
      "[1009, 3, 61, 1087, 1091, 1093, 1097]\n"
     ]
    }
   ],
   "source": [
    "def isPrime(num1): \n",
    "    if num1 > 1:\n",
    "        for i in range(2,num1):\n",
    "            if (num1%i) == 0:\n",
    "                #print(num1,'is not a prime')                \n",
    "                break\n",
    "        else:\n",
    "            return True\n",
    "    else:\n",
    "        return False\n",
    "    \n",
    "def filter_primes(lst):\n",
    "    new_lst = [i for i in lst if isPrime(i)]\n",
    "    return new_lst\n",
    "\n",
    "print(filter_primes([7, 9, 3, 9, 10, 11, 27]))\n",
    "print(filter_primes([10007, 1009, 1007, 27, 147, 77, 1001, 70]))\n",
    "print(filter_primes([1009, 10, 10, 10, 3, 33, 9, 4, 1, 61, 63, 69, 1087, 1091, 1093,1097]))"
   ]
  },
  {
   "cell_type": "markdown",
   "id": "d8c50136",
   "metadata": {},
   "source": [
    "### 2. Once a water balloon pops, is soaks the area around it. The ground gets drier the further away you travel from the balloon.\n",
    "\n",
    "    The effect of a water balloon popping can be modeled using a list. Create a function that takes a list which takes the pre-pop state and returns the state after the balloon is popped. The pre-pop state will contain at most a single balloon, whose size is represented by the only non-zero element.\n",
    "    Examples\n",
    "    pop([0, 0, 0, 0, 4, 0, 0, 0, 0]) ➞ [0, 1, 2, 3, 4, 3, 2, 1, 0]\n",
    "    pop([0, 0, 0, 3, 0, 0, 0]) ➞ [0, 1, 2, 3, 2, 1, 0]\n",
    "    pop([0, 0, 2, 0, 0]) ➞ [0, 1, 2, 1, 0]\n",
    "    pop([0]) ➞ [0]"
   ]
  },
  {
   "cell_type": "code",
   "execution_count": 2,
   "id": "5db2bc18",
   "metadata": {},
   "outputs": [
    {
     "name": "stdout",
     "output_type": "stream",
     "text": [
      "[0, 1, 2, 3, 4, 3, 2, 1, 0]\n",
      "[0, 1, 2, 3, 2, 1, 0]\n",
      "[0]\n"
     ]
    }
   ],
   "source": [
    "def pop(lst):\n",
    "    length = len(lst)//2\n",
    "    fw = bw = length\n",
    "    while(bw > 0):\n",
    "        lst[bw] = length \n",
    "        lst[fw] = length\n",
    "        bw -= 1\n",
    "        fw += 1\n",
    "        length -= 1\n",
    "    return lst\n",
    "\n",
    "print(pop([0, 0, 0, 0, 4, 0, 0, 0, 0]))\n",
    "print(pop([0, 0, 0, 3, 0, 0, 0]))\n",
    "print(pop([0]))"
   ]
  },
  {
   "cell_type": "markdown",
   "id": "e67c40d8",
   "metadata": {},
   "source": [
    "### 3. \"Loves me, loves me not\" is a traditional game in which a person plucks off all the petals of a flower one by one, saying the phrase \"Loves me\" and \"Loves me not\" when determining whether the one that they love, loves them back.\n",
    "\n",
    "    Given a number of petals, return a string which repeats the phrases \"Loves me\" and \"Loves me not\" for every alternating petal, and return the last phrase in all caps. Remember to put a comma and space between phrases.\n",
    "    Examples\n",
    "    loves_me(3) ➞ \"Loves me, Loves me not, LOVES ME\"\n",
    "    loves_me(6) ➞ \"Loves me, Loves me not, Loves me, Loves me not, Loves me, LOVES ME NOT\"\n",
    "    loves_me(1) ➞ \"LOVES ME\""
   ]
  },
  {
   "cell_type": "code",
   "execution_count": 3,
   "id": "fc58922f",
   "metadata": {},
   "outputs": [
    {
     "name": "stdout",
     "output_type": "stream",
     "text": [
      "Loves me, Loves me not, LOVES ME\n",
      "Loves me, Loves me not, Loves me, Loves me not, Loves me, LOVES ME NOT\n",
      "LOVES ME\n"
     ]
    }
   ],
   "source": [
    "def loves_me(n):\n",
    "    lst =[]\n",
    "    for i in range(1,n+1):\n",
    "        if i % 2 == 0:\n",
    "            lst.append(\"Loves me not\")\n",
    "        else:\n",
    "            lst.append(\"Loves me\")\n",
    "\n",
    "    lst[-1] = lst[-1].upper()\n",
    "    return \", \".join(lst)\n",
    "\n",
    "print(loves_me(3))\n",
    "print(loves_me(6))\n",
    "print(loves_me(1))"
   ]
  },
  {
   "cell_type": "markdown",
   "id": "30f70837",
   "metadata": {},
   "source": [
    "### 4. Write a function that sorts each string in a list by the letter in alphabetic ascending order (a-z).\n",
    "\n",
    "    Examples\n",
    "    sort_by_letter([\"932c\", \"832u32\", \"2344b\"])➞ [\"2344b\", \"932c\", \"832u32\"]\n",
    "    sort_by_letter([\"99a\", \"78b\", \"c2345\", \"11d\"]) ➞ [\"99a\", \"78b\", \"c2345\", \"11d\"]\n",
    "    sort_by_letter([\"572z\", \"5y5\", \"304q2\"]) ➞ [\"304q2\", \"5y5\", \"572z\"]\n",
    "    sort_by_letter([]) ➞ []"
   ]
  },
  {
   "cell_type": "code",
   "execution_count": 4,
   "id": "0bdbfd42",
   "metadata": {},
   "outputs": [
    {
     "name": "stdout",
     "output_type": "stream",
     "text": [
      "['2344b', '932c', '832u32']\n",
      "['99a', '78b', 'c2345', '11d']\n",
      "['304q2', '5y5', '572z']\n",
      "[]\n"
     ]
    }
   ],
   "source": [
    "def f_l(w):\n",
    "    for j in w:\n",
    "        if j.isalpha():\n",
    "            x=j\n",
    "            # print(x)\n",
    "    return x\n",
    "\n",
    "\n",
    "def sort_by_letter(l):\n",
    "    if len(l)>0:\n",
    "        m = l[0]\n",
    "        for i in range(len(l)-1):\n",
    "            for j in range(i+1,len(l)):\n",
    "                if ord(f_l(l[i])) > ord(f_l(l[j])):\n",
    "                    temp = l[i]\n",
    "                    l[i]=l[j]\n",
    "                    l[j]=temp\n",
    "    return l\n",
    "print(sort_by_letter([\"932c\", \"832u32\", \"2344b\"]))\n",
    "print(sort_by_letter([\"99a\", \"78b\", \"c2345\", \"11d\"]))\n",
    "print(sort_by_letter([\"572z\", \"5y5\", \"304q2\"]))\n",
    "print(sort_by_letter([]))"
   ]
  },
  {
   "cell_type": "markdown",
   "id": "b1d43d91",
   "metadata": {},
   "source": [
    "### 5. There are three cups on a table, at positions A, B, and C. At the start, there is a ball hidden under the cup at position B.\n",
    "\n",
    "    However, I perform several swaps on the cups, which is notated as two letters. For example, if I swap the cups at positions A and B, I could notate this as AB or BA. Create a function that returns the letter position that the ball is at, once I finish swapping the cups. The swaps will be given to you as a list.\n",
    "    Example\n",
    "    cup_swapping([\"AB\", \"CA\", \"AB\"]) ➞ \"C\"\n",
    "    # Ball begins at position B.\n",
    "    # Cups A and B swap, so the ball is at position A.\n",
    "    # Cups C and A swap, so the ball is at position C.\n",
    "    # Cups A and B swap, but the ball is at position C, so it doesn't move."
   ]
  },
  {
   "cell_type": "code",
   "execution_count": 5,
   "id": "2b681d2e",
   "metadata": {},
   "outputs": [
    {
     "name": "stdout",
     "output_type": "stream",
     "text": [
      "C\n"
     ]
    }
   ],
   "source": [
    "def cup_swapping(l):\n",
    "    for i in l:\n",
    "        if \"B\" in i:\n",
    "            ball= i.replace('B', '')\n",
    "            y=+1\n",
    "            break\n",
    "    for j in range(y,len(l)):\n",
    "        if ball in l[j]:\n",
    "            ball = l[j].replace(ball,'')\n",
    "    return ball\n",
    "\n",
    "print(cup_swapping(['CA','AB', 'CA', 'CB','AB']))"
   ]
  },
  {
   "cell_type": "code",
   "execution_count": null,
   "id": "1d6763c5",
   "metadata": {},
   "outputs": [],
   "source": []
  }
 ],
 "metadata": {
  "kernelspec": {
   "display_name": "Python 3",
   "language": "python",
   "name": "python3"
  },
  "language_info": {
   "codemirror_mode": {
    "name": "ipython",
    "version": 3
   },
   "file_extension": ".py",
   "mimetype": "text/x-python",
   "name": "python",
   "nbconvert_exporter": "python",
   "pygments_lexer": "ipython3",
   "version": "3.8.8"
  }
 },
 "nbformat": 4,
 "nbformat_minor": 5
}
