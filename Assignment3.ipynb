{
 "cells": [
  {
   "cell_type": "markdown",
   "id": "10883df5",
   "metadata": {},
   "source": [
    "### 1. Create a function to perform basic arithmetic operations that includes addition, subtraction, multiplication and division on a string number (e.g. \"12 + 24\" or \"23 - 21\" or \"12 // 12\" or \"12 * 21\").\n",
    "\n",
    "    Here, we have 1 followed by a space, operator followed by another space and 2. For the challenge, we are going to have only two numbers between 1 valid operator. The return value should be a number. eval() is not allowed. In case of division, whenever the second number equals \"0\" return -1.\n",
    "    For example:\n",
    "    \"15 // 0\"  ➞ -1\n",
    "    Examples\n",
    "    arithmetic_operation(\"12 + 12\") ➞ 24 // 12 + 12 = 24\n",
    "    arithmetic_operation(\"12 - 12\") ➞ 24 // 12 - 12 = 0\n",
    "    arithmetic_operation(\"12 * 12\") ➞ 144 // 12 * 12 = 144\n",
    "    arithmetic_operation(\"12 // 0\") ➞ -1 // 12 / 0 = -1"
   ]
  },
  {
   "cell_type": "code",
   "execution_count": 5,
   "id": "f86aa9e0",
   "metadata": {},
   "outputs": [
    {
     "name": "stdout",
     "output_type": "stream",
     "text": [
      "24\n",
      "0\n",
      "144\n",
      "-1\n"
     ]
    }
   ],
   "source": [
    "def arithmetic_operation(str):\n",
    "    opeators = ['+', '-', '*', '//']\n",
    "    exp = list(str.split())\n",
    "    if exp[1] == '+':\n",
    "        return int(exp[0]) + int(exp[2])\n",
    "    elif exp[1] == '-':\n",
    "        return int(exp[0]) - int(exp[2])\n",
    "    elif exp[1] == '*':\n",
    "        return int(exp[0]) * int(exp[2])\n",
    "    elif exp[1] == '//':\n",
    "        if int(exp[0]) == 0 or int(exp[2]) == 0:\n",
    "            return -1\n",
    "        else:\n",
    "            int(exp[0]) // int(exp[2])\n",
    "\n",
    "print(arithmetic_operation(\"12 + 12\"))\n",
    "print(arithmetic_operation(\"12 - 12\"))\n",
    "print(arithmetic_operation(\"12 * 12\"))\n",
    "print(arithmetic_operation(\"12 // 0\"))"
   ]
  },
  {
   "cell_type": "markdown",
   "id": "bb8672fc",
   "metadata": {},
   "source": [
    "### 2. Write a function that takes the coordinates of three points in the form of a 2d array and returns the perimeter of the triangle. The given points are the vertices of a triangle on a two-dimensional plane.\n",
    "\n",
    "    Examples\n",
    "    perimeter( [ [15, 7], [5, 22], [11, 1] ] ) ➞ 47.08\n",
    "    perimeter( [ [0, 0], [0, 1], [1, 0] ] ) ➞ 3.42\n",
    "    perimeter( [ [-10, -10], [10, 10 ], [-10, 10] ] ) ➞ 68.28"
   ]
  },
  {
   "cell_type": "markdown",
   "id": "2736dc27",
   "metadata": {},
   "source": [
    "The formula for the distance, d, between two points whose coordinates are (x1,y1), and (x2,y2) is\n",
    "\n",
    "#### d = √[(x2 − x1)2 + (y2 − y1)2]"
   ]
  },
  {
   "cell_type": "code",
   "execution_count": 24,
   "id": "b1d08422",
   "metadata": {},
   "outputs": [
    {
     "name": "stdout",
     "output_type": "stream",
     "text": [
      "47.08\n",
      "3.41\n",
      "68.28\n"
     ]
    }
   ],
   "source": [
    "import math\n",
    "\n",
    "def perimeter(ary):\n",
    "    list = []\n",
    "    for i in ary:\n",
    "        for j in i:\n",
    "            list.append(j)\n",
    "    x1,y1,x2,y2,x3,y3 = list\n",
    "    \n",
    "    a = math.sqrt((x2-x1)**2 + (y2-y1)**2)\n",
    "    b = math.sqrt((x3-x2)**2 + (y3-y2)**2)\n",
    "    c = math.sqrt((x3-x1)**2 + (y3-y1)**2)\n",
    "    return round((a+b+c),2)\n",
    "\n",
    "print(perimeter( [ [15, 7], [5, 22], [11, 1] ] ))\n",
    "print(perimeter( [ [0, 0], [0, 1], [1, 0] ] ))\n",
    "print(perimeter( [ [-10, -10], [10, 10 ], [-10, 10] ] ))"
   ]
  },
  {
   "cell_type": "markdown",
   "id": "b490f439",
   "metadata": {},
   "source": [
    "### 3. A city skyline can be represented as a 2-D list with 1s representing buildings. In the example below, the height of the tallest building is 4 (second-most right column).\n",
    "\n",
    "    [[0, 0, 0, 0, 0, 0],\n",
    "    [0, 0, 0, 0, 1, 0],\n",
    "    [0, 0, 1, 0, 1, 0],\n",
    "    [0, 1, 1, 1, 1, 0],\n",
    "    [1, 1, 1, 1, 1, 1]]\n",
    "\n",
    "    Create a function that takes a skyline (2-D list of 0's and 1's) and returns the height of the tallest skyscraper.\n",
    "\n",
    "    Examples\n",
    "\n",
    "    tallest_skyscraper([\n",
    "      [0, 0, 0, 0],\n",
    "      [0, 1, 0, 0],\n",
    "      [0, 1, 1, 0],\n",
    "      [1, 1, 1, 1]\n",
    "    ]) ➞ 3\n",
    "\n",
    "    tallest_skyscraper([\n",
    "      [0, 1, 0, 0],\n",
    "      [0, 1, 0, 0],\n",
    "      [0, 1, 1, 0],\n",
    "      [1, 1, 1, 1]\n",
    "    ]) ➞ 4\n",
    "\n",
    "    tallest_skyscraper([\n",
    "      [0, 0, 0, 0],\n",
    "      [0, 0, 0, 0],\n",
    "      [1, 1, 1, 0],\n",
    "      [1, 1, 1, 1]\n",
    "    ]) ➞ 2"
   ]
  },
  {
   "cell_type": "code",
   "execution_count": 45,
   "id": "296ffc1f",
   "metadata": {},
   "outputs": [
    {
     "name": "stdout",
     "output_type": "stream",
     "text": [
      "3\n",
      "4\n",
      "2\n"
     ]
    }
   ],
   "source": [
    "def tallest_skyscraper(array):\n",
    "    list = []\n",
    "    sum = 0\n",
    "    for i in range(len(array[0])):\n",
    "        for j in range(len(array)):\n",
    "            sum += array[j][i]\n",
    "        list.append(sum)\n",
    "        sum = 0\n",
    "    return max(list)\n",
    "\n",
    "print(tallest_skyscraper([\n",
    "  [0, 0, 0, 0],\n",
    "  [0, 1, 0, 0],\n",
    "  [0, 1, 1, 0],\n",
    "  [1, 1, 1, 1]\n",
    "]) )\n",
    "\n",
    "\n",
    "print(tallest_skyscraper([\n",
    "  [0, 1, 0, 0],\n",
    "  [0, 1, 0, 0],\n",
    "  [0, 1, 1, 0],\n",
    "  [1, 1, 1, 1]\n",
    "]))\n",
    "\n",
    "print(tallest_skyscraper([\n",
    "  [0, 0, 0, 0],\n",
    "  [0, 0, 0, 0],  \n",
    "  [1, 1, 1, 0],\n",
    "  [1, 1, 1, 1]\n",
    "]))"
   ]
  },
  {
   "cell_type": "markdown",
   "id": "599a4886",
   "metadata": {},
   "source": [
    "#### 4. A financial institution provides professional services to banks and claims charges from the customers based on the number of man-days provided. Internally, it has set a scheme to motivate and reward staff to meet and exceed targeted billable utilization and revenues by paying a bonus for each day claimed from customers in excess of a threshold target. This quarterly scheme is calculated with a threshold target of 32 days per quarter, and the incentive payment for each billable day in excess of such threshold target is shown as follows:\n",
    "\n",
    "    Days\t                 Bonus\n",
    "    0 to 32 days\t         Zero\n",
    "    33 to 40 days\t         SGD$325 per billable day\n",
    "    41 to 48 days\t         SGD$550 per billable day\n",
    "    Greater than 48 days     SGD$600 per billable day\n",
    "\n",
    "    Please note that incentive payment is calculated progressively. As an example, if an employee reached total billable days of 45 in a quarter, his/her incentive payment is computed as follows:\n",
    "\n",
    "    32*0 + 8*325 + 5*550 = 5350\n",
    "\n",
    "    Write a function to read the billable days of an employee and return the bonus he/she has obtained in that quarter.\n",
    "\n",
    "    Examples\n",
    "\n",
    "    bonus(15) ➞ 0\n",
    "\n",
    "    bonus(37) ➞ 1625\n",
    "\n",
    "    bonus(50) ➞ 8200\n"
   ]
  },
  {
   "cell_type": "code",
   "execution_count": 48,
   "id": "91874cc8",
   "metadata": {},
   "outputs": [
    {
     "name": "stdout",
     "output_type": "stream",
     "text": [
      "0\n",
      "1625\n",
      "1200\n",
      "8200\n"
     ]
    }
   ],
   "source": [
    "def bonus(day):\n",
    "    days = [32,40,48]\n",
    "    incentive = 0\n",
    "    while True :\n",
    "        if day <=32 :\n",
    "            break\n",
    "        if day > 48:\n",
    "            incentive = incentive + (day - days[2]) * 600\n",
    "            day = day - (day - days[2])\n",
    "            print(incentive)\n",
    "        elif day > 40 :\n",
    "            incentive = incentive + (day -days[1]) * 550\n",
    "            day = day - (day - days[1])\n",
    "        elif day > 32:\n",
    "            incentive = incentive + (day -days[0]) * 325\n",
    "            day = day - (day - days[0])\n",
    "    return incentive\n",
    "\n",
    "print(bonus(15))\n",
    "print(bonus(37))\n",
    "print(bonus(50))"
   ]
  },
  {
   "cell_type": "markdown",
   "id": "db06e34a",
   "metadata": {},
   "source": [
    "### 5. A number is said to be Disarium if the sum of its digits raised to their respective positions is the number itself.\n",
    "\n",
    "    Create a function that determines whether a number is a Disarium or not.\n",
    "    Examples\n",
    "    is_disarium(75) ➞ False\n",
    "    # 7^1 + 5^2 = 7 + 25 = 32\n",
    "    is_disarium(135) ➞ True\n",
    "    # 1^1 + 3^2 + 5^3 = 1 + 9 + 125 = 135\n",
    "    is_disarium(544) ➞ False\n",
    "    is_disarium(518) ➞ True\n",
    "    is_disarium(466) ➞ False\n",
    "    is_disarium(8) ➞ True"
   ]
  },
  {
   "cell_type": "code",
   "execution_count": 68,
   "id": "c30debf5",
   "metadata": {},
   "outputs": [
    {
     "name": "stdout",
     "output_type": "stream",
     "text": [
      "False\n",
      "True\n",
      "False\n",
      "True\n",
      "False\n",
      "True\n"
     ]
    }
   ],
   "source": [
    "def is_disarium(n):\n",
    "    sum = 0\n",
    "    temp = n\n",
    "    while n>0:\n",
    "        order = len(str(n))\n",
    "        digit = n%10\n",
    "        sum += digit**order\n",
    "        order -= 1\n",
    "        n = n//10\n",
    "    if sum == temp:\n",
    "        return True\n",
    "    else:\n",
    "        return False\n",
    "    \n",
    "print(is_disarium(75))\n",
    "print(is_disarium(135))\n",
    "print(is_disarium(544))\n",
    "print(is_disarium(518))\n",
    "print(is_disarium(466))\n",
    "print(is_disarium(8))\n",
    "    "
   ]
  },
  {
   "cell_type": "code",
   "execution_count": null,
   "id": "f48a4904",
   "metadata": {},
   "outputs": [],
   "source": []
  }
 ],
 "metadata": {
  "kernelspec": {
   "display_name": "Python 3",
   "language": "python",
   "name": "python3"
  },
  "language_info": {
   "codemirror_mode": {
    "name": "ipython",
    "version": 3
   },
   "file_extension": ".py",
   "mimetype": "text/x-python",
   "name": "python",
   "nbconvert_exporter": "python",
   "pygments_lexer": "ipython3",
   "version": "3.8.8"
  }
 },
 "nbformat": 4,
 "nbformat_minor": 5
}
