{
 "cells": [
  {
   "cell_type": "markdown",
   "id": "4d14fd20",
   "metadata": {},
   "source": [
    "### 1. Create a function based on the input and output. Look at the examples, there is a pattern.\n",
    "\n",
    "    Examples\n",
    "\n",
    "    secret(\"p.one.two.three\") ➞ \"<p class='one two three'></p>\"\n",
    "    secret(\"p.one\") ➞ \"<p class='one'></p>\"\n",
    "    secret(\"p.four.five\") ➞ \"<p class='four five'></p>\""
   ]
  },
  {
   "cell_type": "code",
   "execution_count": 5,
   "id": "9c490f69",
   "metadata": {},
   "outputs": [],
   "source": [
    "def secret(s):\n",
    "    s1=s.replace(\".\",\" \")[2:]\n",
    "    n=\"<p class='str'></p> \"\n",
    "    n=n.replace(\"str\",s1)\n",
    "    return n"
   ]
  },
  {
   "cell_type": "code",
   "execution_count": 6,
   "id": "fabb84da",
   "metadata": {},
   "outputs": [
    {
     "name": "stdout",
     "output_type": "stream",
     "text": [
      "<p class='one two three'></p> \n",
      "<p class='one'></p> \n",
      "<p class='four five'></p> \n"
     ]
    }
   ],
   "source": [
    "print(secret(\"p.one.two.three\"))\n",
    "print(secret(\"p.one\"))\n",
    "print(secret(\"p.four.five\"))"
   ]
  },
  {
   "cell_type": "markdown",
   "id": "c1e7af97",
   "metadata": {},
   "source": [
    "### 2. Create a function which counts how many lone 1s appear in a given number. Lone means the number doesn't appear twice or more in a row.\n",
    "\n",
    "    Examples\n",
    "    count_lone_ones(101) ➞ 2\n",
    "    count_lone_ones(1191) ➞ 1\n",
    "    count_lone_ones(1111) ➞ 0\n",
    "    count_lone_ones(462) ➞ 0"
   ]
  },
  {
   "cell_type": "code",
   "execution_count": 7,
   "id": "1de29fc3",
   "metadata": {},
   "outputs": [],
   "source": [
    "def count_lone_ones(num):\n",
    "    count=0\n",
    "    lst=[int(i) for i in str(num)]\n",
    "    if lst[0]==1 and lst[1]!=1:\n",
    "        count+=1\n",
    "    if lst[-2]!=1 and lst[-1]==1:\n",
    "        count+=1\n",
    "    for i in range(1,len(lst)-2):\n",
    "        if lst[i]==1:\n",
    "            if lst[i-1]!=1 and lst[i+1]!=1:\n",
    "                count+=1\n",
    "    return count"
   ]
  },
  {
   "cell_type": "code",
   "execution_count": 8,
   "id": "bed15191",
   "metadata": {},
   "outputs": [
    {
     "name": "stdout",
     "output_type": "stream",
     "text": [
      "2\n",
      "1\n",
      "0\n",
      "0\n"
     ]
    }
   ],
   "source": [
    "print(count_lone_ones(101))\n",
    "print(count_lone_ones(1191))\n",
    "print(count_lone_ones(1111))\n",
    "print(count_lone_ones(462))"
   ]
  },
  {
   "cell_type": "markdown",
   "id": "fa94a078",
   "metadata": {},
   "source": [
    "### 3. Write a method that accepts two integer parameters rows and cols. The output is a 2d array of numbers displayed in column-major order, meaning the numbers shown increase sequentially down each column and wrap to the top of the next column to the right once the bottom of the current column is reached.\n",
    "\n",
    "    Examples\n",
    "\n",
    "    printGrid(3, 6) ➞ [\n",
    "      [1, 4, 7, 10, 13, 16],\n",
    "      [2, 5, 8, 11, 14, 17],\n",
    "      [3, 6, 9, 12, 15, 18]\n",
    "    ]\n",
    "\n",
    "    printGrid(5, 3) ➞ [\n",
    "      [1, 6, 11],\n",
    "      [2, 7, 12],\n",
    "      [3, 8, 13],\n",
    "      [4, 9, 14],\n",
    "      [5, 10, 15]\n",
    "    ]\n",
    "\n",
    "    printGrid(4, 1) ➞ [\n",
    "      [1],\n",
    "      [2],\n",
    "      [3],\n",
    "      [4]\n",
    "    ]"
   ]
  },
  {
   "cell_type": "code",
   "execution_count": 9,
   "id": "30aec8c8",
   "metadata": {},
   "outputs": [],
   "source": [
    "def printGrid(rows,cols):\n",
    "    \n",
    "    rows,cols=cols,rows\n",
    "    arr=[]\n",
    "    x=1\n",
    "    for i in range(rows):\n",
    "        col = []\n",
    "        for j in range(cols):\n",
    "            col.append(x)\n",
    "            x+=1\n",
    "        arr.append(col)\n",
    "    l2 =[[row[i] for row in arr] for i in range(len(arr[0]))]\n",
    "    return l2"
   ]
  },
  {
   "cell_type": "code",
   "execution_count": 10,
   "id": "0be98f2e",
   "metadata": {},
   "outputs": [
    {
     "name": "stdout",
     "output_type": "stream",
     "text": [
      "[[1, 4, 7, 10, 13, 16], [2, 5, 8, 11, 14, 17], [3, 6, 9, 12, 15, 18]]\n",
      "[[1, 6, 11], [2, 7, 12], [3, 8, 13], [4, 9, 14], [5, 10, 15]]\n",
      "[[1], [2], [3], [4]]\n"
     ]
    }
   ],
   "source": [
    "print(printGrid(3, 6))\n",
    "print(printGrid(5, 3))\n",
    "print(printGrid(4, 1))"
   ]
  },
  {
   "cell_type": "markdown",
   "id": "f87918d5",
   "metadata": {},
   "source": [
    "### 4. Given a list of integers, return the smallest positive integer not present in the list.\n",
    "\n",
    "    Here is a representative example. Consider the list:\n",
    "    [-2, 6, 4, 5, 7, -1, 7, 1, 3, 6, 6, -2, 9, 10, 2, 2]\n",
    "    After reordering, the list becomes:\n",
    "    [-2, -2, -1, 1, 2, 2, 3, 4, 5, 6, 6, 6, 7, 7, 9, 10]\n",
    "    from which we see that the smallest missing positive integer is 8.\n",
    "    Examples\n",
    "    min_miss_pos([-2, 6, 4, 5, 7, -1, 1, 3, 6, -2, 9, 10, 2, 2]) ➞ 8\n",
    "    # After sorting, list becomes [-2, -2, -1, 1, 2, 2, 3, 4, 5, 6, 6, 7, 9, 10]\n",
    "    # So the smallest missing positive integer is 8\n",
    "    min_miss_pos([5, 9, -2, 0, 1, 3, 9, 3, 8, 9]) ➞ 2\n",
    "    # After sorting, list becomes [-2, 0, 1, 3, 3, 5, 8, 9, 9, 9]\n",
    "    # So the smallest missing positive integer is 2\n",
    "    min_miss_pos([0, 4, 4, -1, 9, 4, 5, 2, 10, 7, 6, 3, 10, 9]) ➞ 1\n",
    "    # After sorting, list becomes [-1, 0, 2, 3, 4, 4, 4, 5, 6, 7, 9, 9, 10, 10]\n",
    "    # So the smallest missing positive integer is 1"
   ]
  },
  {
   "cell_type": "code",
   "execution_count": 11,
   "id": "bc8e19d2",
   "metadata": {},
   "outputs": [],
   "source": [
    "def min_miss_pos(lst):\n",
    "    pos=[i for i in range(1,11)]\n",
    "    for i in lst:\n",
    "        if i <0:\n",
    "            lst.remove(i)\n",
    "    lst=list(set(pos).difference(lst))\n",
    "    lst.sort()\n",
    "    return lst[0]"
   ]
  },
  {
   "cell_type": "code",
   "execution_count": 12,
   "id": "83d2f67a",
   "metadata": {},
   "outputs": [
    {
     "name": "stdout",
     "output_type": "stream",
     "text": [
      "8\n",
      "2\n",
      "1\n"
     ]
    }
   ],
   "source": [
    "print(min_miss_pos([-2, 6, 4, 5, 7, -1, 1, 3, 6, -2, 9, 10, 2, 2]))\n",
    "print(min_miss_pos([5, 9, -2, 0, 1, 3, 9, 3, 8, 9]))\n",
    "print(min_miss_pos([0, 4, 4, -1, 9, 4, 5, 2, 10, 7, 6, 3, 10, 9]))"
   ]
  },
  {
   "cell_type": "markdown",
   "id": "e3f34774",
   "metadata": {},
   "source": [
    "### 5. Google is launching a network of autonomous pizza delivery drones and wants you to create a flexible rewards system (Pizza Points™) that can be tweaked in the future. The rules are simple: if a customer has made at least N orders of at least Y price, they get a FREE pizza!\n",
    "\n",
    "    Create a function that takes a dictionary of customers, a minimum number of orders and a minimum order price. Return a list of customers that are eligible for a free pizza.\n",
    "    Examples\n",
    "    customers = {\n",
    "      \"Batman\": [22, 30, 11, 17, 15, 52, 27, 12],\n",
    "      \"Spider-Man\": [5, 17, 30, 33, 40, 22, 26, 10, 11, 45]\n",
    "    }\n",
    "\n",
    "    pizza_points(customers, 5, 20) ➞ [\"Spider-Man\"]\n",
    "    pizza_points(customers, 3, 10) ➞ [\"Batman\", \"Spider-Man\"]\n",
    "    pizza_points(customers, 5, 100) ➞ []"
   ]
  },
  {
   "cell_type": "code",
   "execution_count": 13,
   "id": "528b0b64",
   "metadata": {},
   "outputs": [],
   "source": [
    "def pizza_points(customers, minOrders, minPrice):\n",
    "    \n",
    "    new=[]\n",
    "    for cust in customers:\n",
    "        x=[i for i in customers[cust] if i>minPrice]\n",
    "        if len(x)>=minOrders:\n",
    "            new.append(cust)\n",
    "    return new"
   ]
  },
  {
   "cell_type": "code",
   "execution_count": 14,
   "id": "eedfd015",
   "metadata": {},
   "outputs": [],
   "source": [
    "customers = {\n",
    "  \"Batman\": [22, 30, 11, 17, 15, 52, 27, 12],\n",
    "  \"Spider-Man\": [5, 17, 30, 33, 40, 22, 26, 10, 11, 45]\n",
    "}"
   ]
  },
  {
   "cell_type": "code",
   "execution_count": 15,
   "id": "2c051be8",
   "metadata": {},
   "outputs": [
    {
     "name": "stdout",
     "output_type": "stream",
     "text": [
      "['Spider-Man']\n",
      "['Batman', 'Spider-Man']\n",
      "[]\n"
     ]
    }
   ],
   "source": [
    "print(pizza_points(customers, 5, 20))\n",
    "print(pizza_points(customers, 3, 10))\n",
    "print(pizza_points(customers, 5, 100))"
   ]
  },
  {
   "cell_type": "code",
   "execution_count": null,
   "id": "ffe2dc91",
   "metadata": {},
   "outputs": [],
   "source": []
  }
 ],
 "metadata": {
  "kernelspec": {
   "display_name": "Python 3",
   "language": "python",
   "name": "python3"
  },
  "language_info": {
   "codemirror_mode": {
    "name": "ipython",
    "version": 3
   },
   "file_extension": ".py",
   "mimetype": "text/x-python",
   "name": "python",
   "nbconvert_exporter": "python",
   "pygments_lexer": "ipython3",
   "version": "3.8.8"
  }
 },
 "nbformat": 4,
 "nbformat_minor": 5
}
