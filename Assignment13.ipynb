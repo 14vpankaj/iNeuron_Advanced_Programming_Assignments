{
 "cells": [
  {
   "cell_type": "markdown",
   "id": "f11daf71",
   "metadata": {},
   "source": [
    "### 1. Create a function that takes a list and string. The function should remove the letters in the string from the list, and return the list.\n",
    "\n",
    "    Examples\n",
    "    remove_letters([\"s\", \"t\", \"r\", \"i\", \"n\", \"g\", \"w\"], \"string\") ➞ [\"w\"]\n",
    "    remove_letters([\"b\", \"b\", \"l\", \"l\", \"g\", \"n\", \"o\", \"a\", \"w\"], \"balloon\") ➞ [\"b\", \"g\", \"w\"]\n",
    "    remove_letters([\"d\", \"b\", \"t\", \"e\", \"a\", \"i\"], \"edabit\") ➞ []"
   ]
  },
  {
   "cell_type": "code",
   "execution_count": 1,
   "id": "0b8cdfd0",
   "metadata": {},
   "outputs": [
    {
     "name": "stdout",
     "output_type": "stream",
     "text": [
      "['w']\n",
      "['b', 'g', 'w']\n",
      "[]\n"
     ]
    }
   ],
   "source": [
    "def remove_letters (l,w):\n",
    "    n=[]\n",
    "    for i in w:\n",
    "        n.append(i)\n",
    "    for item in n:\n",
    "        if item in l:\n",
    "            l.remove(item)\n",
    "    return l\n",
    "\n",
    "print(remove_letters([\"s\", \"t\", \"r\", \"i\", \"n\", \"g\", \"w\"], \"string\"))\n",
    "print(remove_letters([\"b\", \"b\", \"l\", \"l\", \"g\", \"n\", \"o\", \"a\", \"w\"], \"balloon\"))\n",
    "print(remove_letters([\"d\", \"b\", \"t\", \"e\", \"a\", \"i\"], \"edabit\"))"
   ]
  },
  {
   "cell_type": "markdown",
   "id": "24c5283b",
   "metadata": {},
   "source": [
    "### 2. A block sequence in three dimensions. We can write a formula for this one:\n",
    "\n",
    "    Create a function that takes a number (step) as an argument and returns the amount of blocks in that step.\n",
    "    Examples\n",
    "    blocks(1) ➞ 5\n",
    "    blocks(5) ➞ 39\n",
    "    blocks(2) ➞ 12"
   ]
  },
  {
   "cell_type": "code",
   "execution_count": 2,
   "id": "ed3d437e",
   "metadata": {},
   "outputs": [
    {
     "name": "stdout",
     "output_type": "stream",
     "text": [
      "5\n",
      "39\n",
      "12\n"
     ]
    }
   ],
   "source": [
    "def blocks(l):\n",
    "    a=5\n",
    "    b=7\n",
    "    if(l==1):\n",
    "        return a\n",
    "    else:\n",
    "        for i in range (1,l):\n",
    "            a=a+b\n",
    "            b=b+1\n",
    "        return a\n",
    "    \n",
    "print(blocks(1))\n",
    "print(blocks(5))\n",
    "print(blocks(2))"
   ]
  },
  {
   "cell_type": "markdown",
   "id": "27372bbb",
   "metadata": {},
   "source": [
    "### 3. Create a function that subtracts one positive integer from another, without using any arithmetic operators such as -, %, /, +, etc.\n",
    "\n",
    "    Examples\n",
    "    my_sub(5, 9) ➞ 4\n",
    "    my_sub(10, 30) ➞ 20\n",
    "    my_sub(0, 0) ➞ 0"
   ]
  },
  {
   "cell_type": "code",
   "execution_count": 3,
   "id": "cb91ebee",
   "metadata": {},
   "outputs": [
    {
     "name": "stdout",
     "output_type": "stream",
     "text": [
      "4\n",
      "20\n",
      "0\n"
     ]
    }
   ],
   "source": [
    "def my_sub(a,b):\n",
    "    n=[1 for i in range(a)]\n",
    "    m=[1 for i in range(b)]\n",
    "    for item in n:\n",
    "        if item in m:\n",
    "            m.remove(item)\n",
    "    return sum(m)\n",
    "\n",
    "print(my_sub(5, 9))\n",
    "print(my_sub(10, 30))\n",
    "print(my_sub(0, 0))"
   ]
  },
  {
   "cell_type": "markdown",
   "id": "59bf7e06",
   "metadata": {},
   "source": [
    "### 4. Create a function that takes a string containing money in dollars and pounds sterling (seperated by comma) and returns the sum of dollar bills only, as an integer.\n",
    "\n",
    "    For the input string:\n",
    "    Each amount is prefixed by the currency symbol: $ for dollars and £ for pounds.\n",
    "    Thousands are represented by the suffix k.\n",
    "\n",
    "    i.e. $4k = $4,000 and £40k = £40,000\n",
    "    Examples\n",
    "    add_bill(\"d20,p40,p60,d50\") ➞ 20 + 50 = 70\n",
    "    add_bill(\"p30,d20,p60,d150,p360\") ➞ 20  + 150 = 170\n",
    "    add_bill(\"p30,d2k,p60,d200,p360\") ➞ 2 * 1000 + 200 = 2200"
   ]
  },
  {
   "cell_type": "code",
   "execution_count": 4,
   "id": "8f1f3ada",
   "metadata": {},
   "outputs": [
    {
     "name": "stdout",
     "output_type": "stream",
     "text": [
      "70\n",
      "170\n",
      "2200\n"
     ]
    }
   ],
   "source": [
    "def add_bill(r):\n",
    "    n=[]\n",
    "    l =list(r.split(\",\"))\n",
    "    l=[i for i in l if i[0] == 'd']\n",
    "    l=[i[1:] for i in l if i[0] == 'd']\n",
    "    for i in l:\n",
    "        if \"k\" in i:\n",
    "            i = i[:-1]\n",
    "            i= int(i)*1000\n",
    "            n.append(i)\n",
    "        else:\n",
    "            n.append(int(i))\n",
    "    return sum(n)\n",
    "\n",
    "print(add_bill(\"d20,p40,p60,d50\"))\n",
    "print(add_bill(\"p30,d20,p60,d150,p360\"))\n",
    "print(add_bill(\"p30,d2k,p60,d200,p360\"))"
   ]
  },
  {
   "cell_type": "markdown",
   "id": "5e1e7808",
   "metadata": {},
   "source": [
    "### 5. Create a function that flips a horizontal list into a vertical list, and a vertical list into a horizontal list.\n",
    "\n",
    "    In other words, take an 1 x n list (1 row + n columns) and flip it into a n x 1 list (n rows and 1 column), and vice versa.\n",
    "    Examples\n",
    "    flip_list([1, 2, 3, 4]) ➞ [[1], [2], [3], [4]]\n",
    "    # Take a horizontal list and flip it vertical.\n",
    "    flip_list([[5], [6], [9]]) ➞ [5, 6, 9]\n",
    "    # Take a vertical list and flip it horizontal.\n",
    "    flip_list([]) ➞ []"
   ]
  },
  {
   "cell_type": "code",
   "execution_count": 5,
   "id": "e45a8029",
   "metadata": {},
   "outputs": [
    {
     "name": "stdout",
     "output_type": "stream",
     "text": [
      "[['1'], ['2'], ['3'], ['4']]\n",
      "[5, 6, 9]\n",
      "[]\n"
     ]
    }
   ],
   "source": [
    "def flip_list(l):\n",
    "    y = []\n",
    "    for i in l:\n",
    "        if type(i)!= list:\n",
    "            listA = [str(i)]\n",
    "            for elem in listA:\n",
    "               t = elem.split(', ')\n",
    "               y.append((t))\n",
    "        else:\n",
    "            y.append(i[0])\n",
    "    return y\n",
    "\n",
    "print(flip_list([1, 2, 3, 4]))\n",
    "print(flip_list([[5], [6], [9]]))\n",
    "print(flip_list([]))"
   ]
  },
  {
   "cell_type": "code",
   "execution_count": null,
   "id": "c392f4e7",
   "metadata": {},
   "outputs": [],
   "source": []
  }
 ],
 "metadata": {
  "kernelspec": {
   "display_name": "Python 3",
   "language": "python",
   "name": "python3"
  },
  "language_info": {
   "codemirror_mode": {
    "name": "ipython",
    "version": 3
   },
   "file_extension": ".py",
   "mimetype": "text/x-python",
   "name": "python",
   "nbconvert_exporter": "python",
   "pygments_lexer": "ipython3",
   "version": "3.8.8"
  }
 },
 "nbformat": 4,
 "nbformat_minor": 5
}
