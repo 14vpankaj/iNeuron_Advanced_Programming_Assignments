{
 "cells": [
  {
   "cell_type": "markdown",
   "id": "742a00cc",
   "metadata": {},
   "source": [
    "### 1. Create a checker board generator, which takes as inputs n and 2 elements to generate an n x n checkerboard with those two elements as alternating squares.\n",
    "\n",
    "    Examples\n",
    "\n",
    "    checker_board(2, 7, 6) ➞ [\n",
    "      [7, 6],\n",
    "      [6, 7]\n",
    "    ]\n",
    "\n",
    "    checker_board(3, \"A\", \"B\") ➞ [\n",
    "      [\"A\", \"B\", \"A\"],\n",
    "      [\"B\", \"A\", \"B\"],\n",
    "      [\"A\", \"B\", \"A\"]\n",
    "    ]\n",
    "\n",
    "    checker_board(4, \"c\", \"d\") ➞ [\n",
    "      [\"c\", \"d\", \"c\", \"d\"],\n",
    "      [\"d\", \"c\", \"d\", \"c\"],\n",
    "      [\"c\", \"d\", \"c\", \"d\"],\n",
    "      [\"d\", \"c\", \"d\", \"c\"]\n",
    "    ]\n",
    "\n",
    "    checker_board(4, \"c\", \"c\") ➞ \"invalid\""
   ]
  },
  {
   "cell_type": "code",
   "execution_count": 2,
   "id": "4d72c3f0",
   "metadata": {},
   "outputs": [],
   "source": [
    "def checker_board(n,i1,i2):\n",
    "    if(i1==i2):\n",
    "        return \"invalid\"\n",
    "    else:\n",
    "        matrix=[]\n",
    "        for i in range(n):          \n",
    "            a =[] \n",
    "            for j in range(n):    \n",
    "                a.append(i1)  \n",
    "                i1, i2 = i2, i1\n",
    "            matrix.append(a)\n",
    "            if n%2==0:\n",
    "                i1, i2 = i2, i1\n",
    "        return matrix"
   ]
  },
  {
   "cell_type": "code",
   "execution_count": 4,
   "id": "858ba18c",
   "metadata": {},
   "outputs": [
    {
     "name": "stdout",
     "output_type": "stream",
     "text": [
      "[[7, 6], [6, 7]]\n",
      "[['A', 'B', 'A'], ['B', 'A', 'B'], ['A', 'B', 'A']]\n"
     ]
    }
   ],
   "source": [
    "print(checker_board(2, 7, 6))\n",
    "print(checker_board(3, \"A\", \"B\"))"
   ]
  },
  {
   "cell_type": "code",
   "execution_count": 7,
   "id": "e93d3fe4",
   "metadata": {},
   "outputs": [
    {
     "data": {
      "text/plain": [
       "[['c', 'd', 'c', 'd'],\n",
       " ['d', 'c', 'd', 'c'],\n",
       " ['c', 'd', 'c', 'd'],\n",
       " ['d', 'c', 'd', 'c']]"
      ]
     },
     "execution_count": 7,
     "metadata": {},
     "output_type": "execute_result"
    }
   ],
   "source": [
    "checker_board(4, \"c\", \"d\")"
   ]
  },
  {
   "cell_type": "code",
   "execution_count": 8,
   "id": "aea79ea6",
   "metadata": {},
   "outputs": [
    {
     "name": "stdout",
     "output_type": "stream",
     "text": [
      "invalid\n"
     ]
    }
   ],
   "source": [
    "print(checker_board(4, \"c\", \"c\"))"
   ]
  },
  {
   "cell_type": "markdown",
   "id": "507f7a8d",
   "metadata": {},
   "source": [
    "### 2. A string is an almost-palindrome if, by changing only one character, you can make it a palindrome. Create a function that returns True if a string is an almost-palindrome and False otherwise.\n",
    "\n",
    "    Examples\n",
    "    almost_palindrome(\"abcdcbg\") ➞ True\n",
    "    # Transformed to \"abcdcba\" by changing \"g\" to \"a\".\n",
    "    almost_palindrome(\"abccia\") ➞ True\n",
    "    # Transformed to \"abccba\" by changing \"i\" to \"b\".\n",
    "    almost_palindrome(\"abcdaaa\") ➞ False\n",
    "    # Can't be transformed to a palindrome in exactly 1 turn.\n",
    "    almost_palindrome(\"1234312\") ➞ False"
   ]
  },
  {
   "cell_type": "code",
   "execution_count": 9,
   "id": "4611c85b",
   "metadata": {},
   "outputs": [],
   "source": [
    "def almost_palindrome(s):\n",
    "    rs=s[::-1]\n",
    "    count=0\n",
    "    for i in range(len(s)):\n",
    "        if s[i]!=rs[i]:\n",
    "            count+=1\n",
    "    if count >2 :\n",
    "        return False\n",
    "    return True"
   ]
  },
  {
   "cell_type": "code",
   "execution_count": 10,
   "id": "58e889c6",
   "metadata": {},
   "outputs": [
    {
     "name": "stdout",
     "output_type": "stream",
     "text": [
      "True\n",
      "True\n",
      "False\n",
      "False\n"
     ]
    }
   ],
   "source": [
    "print(almost_palindrome(\"abcdcbg\"))\n",
    "print(almost_palindrome(\"abccia\"))\n",
    "print(almost_palindrome(\"abcdaaa\"))\n",
    "print(almost_palindrome(\"1234312\"))"
   ]
  },
  {
   "cell_type": "markdown",
   "id": "27cd5bb2",
   "metadata": {},
   "source": [
    "### 3. Create a function that finds how many prime numbers there are, up to the given integer.\n",
    "\n",
    "    Examples\n",
    "    prime_numbers(10) ➞ 4\n",
    "    # 2, 3, 5 and 7\n",
    "    prime_numbers(20) ➞ 8\n",
    "    # 2, 3, 5, 7, 11, 13, 17 and 19\n",
    "    prime_numbers(30) ➞ 10\n",
    "    # 2, 3, 5, 7, 11, 13, 17, 19, 23 and 29"
   ]
  },
  {
   "cell_type": "code",
   "execution_count": 11,
   "id": "da308c88",
   "metadata": {},
   "outputs": [],
   "source": [
    "def prime_numbers(n):\n",
    "    count=0\n",
    "    for i in range(n+1):\n",
    "        if i>1:\n",
    "            for j in range(2,i):\n",
    "                if(i % j==0):\n",
    "                    break\n",
    "            else:\n",
    "                count+=1\n",
    "    return count"
   ]
  },
  {
   "cell_type": "code",
   "execution_count": 12,
   "id": "9c0e0586",
   "metadata": {},
   "outputs": [
    {
     "name": "stdout",
     "output_type": "stream",
     "text": [
      "4\n",
      "8\n",
      "10\n"
     ]
    }
   ],
   "source": [
    "print(prime_numbers(10))\n",
    "print(prime_numbers(20))\n",
    "print(prime_numbers(30))"
   ]
  },
  {
   "cell_type": "markdown",
   "id": "baf01402",
   "metadata": {},
   "source": [
    "### 4. If today was Monday, in two days, it would be Wednesday.\n",
    "\n",
    "    Create a function that takes in a list of days as input and the number of days to increment by. Return a list of days after n number of days has passed.\n",
    "\n",
    "    Examples\n",
    "    after_n_days([\"Thursday\", \"Monday\"], 4) ➞ [\"Monday\", \"Friday\"]\n",
    "    after_n_days([\"Sunday\", \"Sunday\", \"Sunday\"], 1) ➞ [\"Monday\", \"Monday\", \"Monday\"]\n",
    "    after_n_days([\"Monday\", \"Tuesday\", \"Friday\"], 1) ➞ [\"Tuesday\", \"Wednesday\", \"Saturday\"]"
   ]
  },
  {
   "cell_type": "code",
   "execution_count": 13,
   "id": "207a20ce",
   "metadata": {},
   "outputs": [],
   "source": [
    "def after_n_days(lst,n):\n",
    "    index=[]\n",
    "    new=[]\n",
    "    days=[\"Monday\",\"Tuesday\",\"Wednesday\",\"Thursday\",\"Friday\",\"Saturday\",\"Sunday\"]\n",
    "    index=[days.index(i) for i in lst]\n",
    "    index=[(i+n)%7 for i in index]\n",
    "    for i in index:\n",
    "        new.append(days[i])\n",
    "    return new"
   ]
  },
  {
   "cell_type": "code",
   "execution_count": 14,
   "id": "82ec9d3d",
   "metadata": {},
   "outputs": [
    {
     "name": "stdout",
     "output_type": "stream",
     "text": [
      "['Monday', 'Friday']\n",
      "['Monday', 'Monday', 'Monday']\n",
      "['Tuesday', 'Wednesday', 'Saturday']\n"
     ]
    }
   ],
   "source": [
    "print(after_n_days([\"Thursday\", \"Monday\"], 4))\n",
    "print(after_n_days([\"Sunday\", \"Sunday\", \"Sunday\"], 1))\n",
    "print(after_n_days([\"Monday\", \"Tuesday\", \"Friday\"], 1))"
   ]
  },
  {
   "cell_type": "markdown",
   "id": "dd4c946d",
   "metadata": {},
   "source": [
    "### 5. You are in the process of creating a chat application and want to add an anonymous name feature. This anonymous name feature will create an alias that consists of two capitalized words beginning with the same letter as the users first name.\n",
    "\n",
    "    Create a function that determines if the list of users is mapped to a list of anonymous names correctly.\n",
    "    Examples\n",
    "    is_correct_aliases([\"Adrian M.\", \"Harriet S.\", \"Mandy T.\"], [\"Amazing Artichoke\", \"Hopeful Hedgehog\", \"Marvelous Mouse\"]) ➞ True\n",
    "    is_correct_aliases([\"Rachel F.\", \"Pam G.\", \"Fred Z.\", \"Nancy K.\"], [\"Reassuring Rat\", \"Peaceful Panda\", \"Fantastic Frog\", \"Notable Nickel\"]) ➞ True\n",
    "    is_correct_aliases([\"Beth T.\"], [\"Brandishing Mimosa\"]) ➞ False\n",
    "    # Both words in \"Brandishing Mimosa\" should begin with a \"B\" - \"Brandishing Beaver\" would do the trick."
   ]
  },
  {
   "cell_type": "code",
   "execution_count": 15,
   "id": "c99da1da",
   "metadata": {},
   "outputs": [],
   "source": [
    "def is_correct_aliases(lst1,lst2):\n",
    "    new=[]\n",
    "    for i in lst2:\n",
    "        x=i.split()\n",
    "        new.append(x)\n",
    "    for i in range(len(lst1)):\n",
    "        if lst1[i][0]!=new[i][0][0] or lst1[i][0] !=new[i][1][0]:\n",
    "            return False\n",
    "    return True\n"
   ]
  },
  {
   "cell_type": "code",
   "execution_count": 16,
   "id": "feecf6fd",
   "metadata": {},
   "outputs": [
    {
     "name": "stdout",
     "output_type": "stream",
     "text": [
      "True\n",
      "True\n",
      "False\n"
     ]
    }
   ],
   "source": [
    "print(is_correct_aliases([\"Adrian M.\", \"Harriet S.\", \"Mandy T.\"], [\"Amazing Artichoke\", \"Hopeful Hedgehog\", \"Marvelous Mouse\"]))\n",
    "print(is_correct_aliases([\"Rachel F.\", \"Pam G.\", \"Fred Z.\", \"Nancy K.\"], [\"Reassuring Rat\", \"Peaceful Panda\", \"Fantastic Frog\", \"Notable Nickel\"]))\n",
    "print(is_correct_aliases([\"Beth T.\"], [\"Brandishing Mimosa\"]) )"
   ]
  },
  {
   "cell_type": "code",
   "execution_count": null,
   "id": "8654a4dd",
   "metadata": {},
   "outputs": [],
   "source": []
  }
 ],
 "metadata": {
  "kernelspec": {
   "display_name": "Python 3",
   "language": "python",
   "name": "python3"
  },
  "language_info": {
   "codemirror_mode": {
    "name": "ipython",
    "version": 3
   },
   "file_extension": ".py",
   "mimetype": "text/x-python",
   "name": "python",
   "nbconvert_exporter": "python",
   "pygments_lexer": "ipython3",
   "version": "3.8.8"
  }
 },
 "nbformat": 4,
 "nbformat_minor": 5
}
