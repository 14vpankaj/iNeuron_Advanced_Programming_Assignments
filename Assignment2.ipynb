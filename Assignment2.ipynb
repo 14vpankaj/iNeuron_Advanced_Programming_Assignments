{
 "cells": [
  {
   "cell_type": "markdown",
   "id": "0a9400c3",
   "metadata": {},
   "source": [
    "### 1. Write a function that takes a positive integer num and calculates how many dots exist in a pentagonal shape around the center dot on the Nth iteration.\n",
    "\n",
    "    In the image below you can see the first iteration is only a single dot. On the second, there are 6 dots. On the third, there are 16 dots, and on the fourth there are 31 dots.\n",
    "    Return the number of dots that exist in the whole pentagon on the Nth iteration.\n",
    "    Examples\n",
    "    pentagonal(1) ➞ 1\n",
    "    pentagonal(2) ➞ 6\n",
    "    pentagonal(3) ➞ 16\n",
    "    pentagonal(8) ➞ 141"
   ]
  },
  {
   "cell_type": "code",
   "execution_count": 1,
   "id": "d5b7d659",
   "metadata": {},
   "outputs": [
    {
     "name": "stdout",
     "output_type": "stream",
     "text": [
      "1\n",
      "6\n",
      "16\n",
      "141\n"
     ]
    }
   ],
   "source": [
    "def pentagonal(n):     \n",
    "    return (5 * n * n - 5 * n + 2) // 2 # Formula to calculate nth Centered pentagonal number.\n",
    "\n",
    "print(pentagonal(1))\n",
    "print(pentagonal(2))\n",
    "print(pentagonal(3))\n",
    "print(pentagonal(8))"
   ]
  },
  {
   "cell_type": "markdown",
   "id": "74fd00bb",
   "metadata": {},
   "source": [
    "### 2.  Make a function that encrypts a given input with these steps:\n",
    "\n",
    "    Input: \"apple\"\n",
    "    Step 1: Reverse the input: \"elppa\"\n",
    "    Step 2: Replace all vowels using the following chart:\n",
    "\n",
    "    a => 0\n",
    "    e => 1\n",
    "    i => 2\n",
    "    o => 2\n",
    "    u => 3\n",
    "\n",
    "    # \"1lpp0\"\n",
    "\n",
    "    Step 3: Add \"aca\" to the end of the word: \"1lpp0aca\"\n",
    "    Output: \"1lpp0aca\"\n",
    "    Examples\n",
    "    encrypt(\"banana\") ➞ \"0n0n0baca\"\n",
    "    encrypt(\"karaca\") ➞ \"0c0r0kaca\"\n",
    "    encrypt(\"burak\") ➞ \"k0r3baca\"\n",
    "    encrypt(\"alpaca\") ➞ \"0c0pl0aca\""
   ]
  },
  {
   "cell_type": "code",
   "execution_count": 5,
   "id": "dec7e582",
   "metadata": {},
   "outputs": [
    {
     "name": "stdout",
     "output_type": "stream",
     "text": [
      "1lpp0aca\n",
      "0n0n0baca\n",
      "0c0r0kaca\n",
      "k0r3baca\n",
      "0c0pl0aca\n"
     ]
    }
   ],
   "source": [
    "def encrypt(s):\n",
    "    vowels = 'aeiou'\n",
    "    chart = {'a': 0, \"e\": 1, \"i\": 2, \"o\": 2, \"u\": 3}\n",
    "    s = s.lower()\n",
    "    s = s[::-1]\n",
    "    encoded = []\n",
    "    for i in range(len(s)):\n",
    "        if s[i] in vowels:\n",
    "            encoded.append(str(chart[s[i]]))\n",
    "        else:\n",
    "            encoded.append(s[i])\n",
    "    return (''.join(encoded) + 'aca')\n",
    "\n",
    "print(encrypt(\"apple\"))\n",
    "print(encrypt(\"banana\"))\n",
    "print(encrypt(\"karaca\"))\n",
    "print(encrypt(\"burak\"))\n",
    "print(encrypt(\"alpaca\"))"
   ]
  },
  {
   "cell_type": "markdown",
   "id": "37f61a79",
   "metadata": {},
   "source": [
    "### 3. Given the month and year as numbers, return whether that month contains a Friday 13th.(i.e You can check Python's datetime module)\n",
    "\n",
    "    Examples\n",
    "    has_friday_13(3, 2020) ➞ True\n",
    "    has_friday_13(10, 2017) ➞ True\n",
    "    has_friday_13(1, 1985) ➞ False"
   ]
  },
  {
   "cell_type": "code",
   "execution_count": 15,
   "id": "5c5fbdec",
   "metadata": {},
   "outputs": [
    {
     "name": "stdout",
     "output_type": "stream",
     "text": [
      "True\n",
      "True\n",
      "False\n"
     ]
    }
   ],
   "source": [
    "import datetime\n",
    "def has_friday_13(month,year):\n",
    "    if datetime.datetime.strptime('13 ' + ' ' + str(month) + ' ' + str(year), '%d %m %Y').weekday()==4:\n",
    "        return True\n",
    "    else:\n",
    "        return False\n",
    "print(has_friday_13(3,2020))\n",
    "print(has_friday_13(10, 2017))\n",
    "print(has_friday_13(1, 1985))"
   ]
  },
  {
   "cell_type": "markdown",
   "id": "6662d309",
   "metadata": {},
   "source": [
    "#### 4. Write a regular expression that will help us count how many bad cookies are produced every day. You must use RegEx negative lookbehind.\n",
    "\n",
    "    Example\n",
    "    lst = [\"bad cookie\", \"good cookie\", \"bad cookie\", \"good cookie\", \"good cookie\"]\n",
    "    pattern = \"yourregularexpressionhere\"\n",
    "    len(re.findall(pattern, \", \".join(lst))) ➞ 2"
   ]
  },
  {
   "cell_type": "code",
   "execution_count": 23,
   "id": "c4e485d0",
   "metadata": {},
   "outputs": [
    {
     "data": {
      "text/plain": [
       "2"
      ]
     },
     "execution_count": 23,
     "metadata": {},
     "output_type": "execute_result"
    }
   ],
   "source": [
    "import re\n",
    "lst = [\"bad cookie\", \"good cookie\", \"bad cookie\", \"good cookie\", \"good cookie\"]\n",
    "pattern = 'bad\\s\\w'\n",
    "len(re.findall(pattern, \", \".join(lst)))"
   ]
  },
  {
   "cell_type": "markdown",
   "id": "ccd12405",
   "metadata": {},
   "source": [
    "### 5. Given a list of words in the singular form, return a set of those words in the plural form if they appear more than once in the list.\n",
    "\n",
    "    Examples\n",
    "    pluralize([\"cow\", \"pig\", \"cow\", \"cow\"]) ➞ { \"cows\", \"pig\" }\n",
    "    pluralize([\"table\", \"table\", \"table\"]) ➞ { \"tables\" }\n",
    "    pluralize([\"chair\", \"pencil\", \"arm\"]) ➞ { \"chair\", \"pencil\", \"arm\" }"
   ]
  },
  {
   "cell_type": "code",
   "execution_count": 30,
   "id": "6a197bfc",
   "metadata": {},
   "outputs": [
    {
     "name": "stdout",
     "output_type": "stream",
     "text": [
      "{'pig', 'cows'}\n",
      "{'tables'}\n",
      "{'pencil', 'chair', 'arm'}\n"
     ]
    }
   ],
   "source": [
    "def pluralize(lst):\n",
    "    new_list = []\n",
    "    for i in lst:\n",
    "        if lst.count(i) > 1:\n",
    "            new_list.append(i + 's')\n",
    "        else:\n",
    "            new_list.append(i)\n",
    "    return set(new_list)\n",
    "        \n",
    "print(pluralize([\"cow\", \"pig\", \"cow\", \"cow\"]))        \n",
    "print(pluralize([\"table\", \"table\", \"table\"]))\n",
    "print(pluralize([\"chair\", \"pencil\", \"arm\"]))"
   ]
  },
  {
   "cell_type": "code",
   "execution_count": 25,
   "id": "68c0f09e",
   "metadata": {},
   "outputs": [
    {
     "data": {
      "text/plain": [
       "3"
      ]
     },
     "execution_count": 25,
     "metadata": {},
     "output_type": "execute_result"
    }
   ],
   "source": [
    "\n"
   ]
  },
  {
   "cell_type": "code",
   "execution_count": null,
   "id": "e0fabc4a",
   "metadata": {},
   "outputs": [],
   "source": []
  }
 ],
 "metadata": {
  "kernelspec": {
   "display_name": "Python 3",
   "language": "python",
   "name": "python3"
  },
  "language_info": {
   "codemirror_mode": {
    "name": "ipython",
    "version": 3
   },
   "file_extension": ".py",
   "mimetype": "text/x-python",
   "name": "python",
   "nbconvert_exporter": "python",
   "pygments_lexer": "ipython3",
   "version": "3.8.8"
  }
 },
 "nbformat": 4,
 "nbformat_minor": 5
}
