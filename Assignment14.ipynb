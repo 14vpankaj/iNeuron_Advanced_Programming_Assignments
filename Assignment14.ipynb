{
 "cells": [
  {
   "cell_type": "markdown",
   "id": "b0fd8d06",
   "metadata": {},
   "source": [
    "### 1. Given a list of numbers, create a function that removes 25% from every number in the list except the smallest number, and adds the total amount removed to the smallest number.\n",
    "\n",
    "    Examples\n",
    "    show_the_love([4, 1, 4]) ➞ [3, 3, 3]\n",
    "    show_the_love([16, 10, 8]) ➞ [12, 7.5, 14.5]\n",
    "    show_the_love([2, 100]) ➞ [27, 75]"
   ]
  },
  {
   "cell_type": "code",
   "execution_count": 4,
   "id": "1e20417e",
   "metadata": {},
   "outputs": [
    {
     "name": "stdout",
     "output_type": "stream",
     "text": [
      "[3.0, 3.0, 3.0]\n",
      "[12.0, 7.5, 14.5]\n",
      "[27.0, 75.0]\n"
     ]
    }
   ],
   "source": [
    "def show_the_love(l):\n",
    "    m= min(l)\n",
    "    x= l.index(m)\n",
    "    tf = 0\n",
    "    for i in range(len(l)):\n",
    "        if l[i] != m:\n",
    "            tf=tf+l[i]*0.25\n",
    "            l[i] = l[i]-(l[i]*0.25)\n",
    "    l[x]=l[x]+tf\n",
    "    return(l)\n",
    "\n",
    "print(show_the_love([4, 1, 4]))\n",
    "print(show_the_love([16, 10, 8]))\n",
    "print(show_the_love([2, 100]))"
   ]
  },
  {
   "cell_type": "markdown",
   "id": "b3538f4a",
   "metadata": {},
   "source": [
    "### 2. Create a function that takes in two words as input and returns a list of three elements, in the following order:\n",
    "\n",
    "    1.Shared letters between two words.\n",
    "    2.Letters unique to word 1.\n",
    "    3.Letters unique to word 2.\n",
    "\n",
    "    Each element should have unique letters, and have each letter be alphabetically sorted.\n",
    "    Examples\n",
    "    letters(\"sharp\", \"soap\") ➞ [\"aps\", \"hr\", \"o\"]\n",
    "    letters(\"board\", \"bored\") ➞ [\"bdor\", \"a\", \"e\"]\n",
    "    letters(\"happiness\", \"envelope\") ➞ [\"enp\", \"ahis\", \"lov\"]\n",
    "    letters(\"kerfuffle\", \"fluffy\") ➞ [\"flu\", \"ekr\", \"y\"]\n",
    "    # Even with multiple matching letters (e.g. 3 f's), there should \n",
    "    # only exist a single \"f\" in your first element.\n",
    "    letters(\"match\", \"ham\") ➞ [\"ahm\", \"ct\", \"\"]\n",
    "    # \"ham\" does not contain any letters that are not found already \n",
    "    # in \"match\"."
   ]
  },
  {
   "cell_type": "code",
   "execution_count": 5,
   "id": "55ade89b",
   "metadata": {},
   "outputs": [
    {
     "name": "stdout",
     "output_type": "stream",
     "text": [
      "['aps', 'hr', 'o']\n",
      "['bdor', 'a', 'e']\n",
      "['enp', 'ahis', 'lov']\n",
      "['flu', 'ekr', 'y']\n",
      "['ahm', 'ct', '']\n"
     ]
    }
   ],
   "source": [
    "def letters(l1,l2):\n",
    "    l1=set(l1)\n",
    "    l2=set(l2)\n",
    "    l3=[]\n",
    "    c=\"\"\n",
    "    for i in l1:\n",
    "        if i in l2:\n",
    "            c += i\n",
    "    c= ''.join(sorted(c))\n",
    "    a= ''.join(sorted(l1.difference(l2)))\n",
    "    b= ''.join(sorted(l2.difference(l1)))\n",
    "    l3.append(c)\n",
    "    l3.append(a)\n",
    "    l3.append(b)\n",
    "    return(l3)\n",
    "\n",
    "print(letters(\"sharp\", \"soap\"))\n",
    "print(letters(\"board\", \"bored\"))\n",
    "print(letters(\"happiness\", \"envelope\"))\n",
    "print(letters(\"kerfuffle\", \"fluffy\"))\n",
    "print(letters(\"match\", \"ham\"))"
   ]
  },
  {
   "cell_type": "markdown",
   "id": "e47bc0b1",
   "metadata": {},
   "source": [
    "### 3. Write a function that pairs the first number in an array with the last, the second number with the second to last, etc.\n",
    "\n",
    "    Examples\n",
    "    pairs([1, 2, 3, 4, 5, 6, 7]) ➞ [[1, 7], [2, 6], [3, 5], [4, 4]]\n",
    "    pairs([1, 2, 3, 4, 5, 6]) ➞ [[1, 6], [2, 5], [3, 4]]\n",
    "    pairs([5, 9, 8, 1, 2]) ➞ [[5, 2], [9, 1], [8, 8]]\n",
    "    pairs([]) ➞ []"
   ]
  },
  {
   "cell_type": "code",
   "execution_count": 6,
   "id": "45a418ae",
   "metadata": {},
   "outputs": [
    {
     "name": "stdout",
     "output_type": "stream",
     "text": [
      "[[1, 7], [2, 6], [3, 5], [4, 4]]\n",
      "[[1, 6], [2, 5], [3, 4]]\n",
      "[[5, 2], [9, 1], [8, 8]]\n",
      "[]\n"
     ]
    }
   ],
   "source": [
    "def pairs(l):\n",
    "    r = l[::-1]\n",
    "    a=[]\n",
    "    n=[]\n",
    "    i = 0\n",
    "    if len(l) %2 == 0:\n",
    "        length = int(len(l)/2)\n",
    "    else:\n",
    "        length = int(len(l)/2) +1\n",
    "    while length:\n",
    "        a.append(l[i])\n",
    "        a.append(r[i])\n",
    "        length = length -1\n",
    "        i = i+1\n",
    "    i=0\n",
    "    while i<len(a):\n",
    "        n.append(a[i:i+2])\n",
    "        i+=2\n",
    "    return n\n",
    "\n",
    "print(pairs([1, 2, 3, 4, 5, 6, 7]))\n",
    "print(pairs([1, 2, 3, 4, 5, 6]))\n",
    "print(pairs([5, 9, 8, 1, 2]))\n",
    "print(pairs([]))"
   ]
  },
  {
   "cell_type": "markdown",
   "id": "6355bc34",
   "metadata": {},
   "source": [
    "### 4. Write a function that adds two numbers. The catch, however, is that the numbers will be strings.\n",
    "\n",
    "    Examples\n",
    "    add_str_nums(\"4\", \"5\") ➞ \"9\"\n",
    "    add_str_nums(\"abcdefg\", \"3\") ➞ \"-1\"\n",
    "    add_str_nums(\"1\", \"\") ➞ \"1\"\n",
    "    add_str_nums(\"1874682736267235927359283579235789257\", \"32652983572985729\") ➞ \"1874682736267235927391936562808774986\""
   ]
  },
  {
   "cell_type": "code",
   "execution_count": 7,
   "id": "15acce14",
   "metadata": {},
   "outputs": [
    {
     "name": "stdout",
     "output_type": "stream",
     "text": [
      "9\n",
      "-1\n",
      "1\n",
      "1874682736267235927391936562808774986\n"
     ]
    }
   ],
   "source": [
    "def add_str_nums(a,b):\n",
    "        \n",
    "    if not a:\n",
    "        a=\"0\"\n",
    "    if not b:\n",
    "        b=\"0\"\n",
    "    try:  \n",
    "        return str(int(a)+int(b))\n",
    "    except:\n",
    "        return \"-1\"\n",
    "    \n",
    "print(add_str_nums(\"4\", \"5\"))\n",
    "print(add_str_nums(\"abcdefg\", \"3\"))\n",
    "print(add_str_nums(\"1\", \"\"))\n",
    "print(add_str_nums(\"1874682736267235927359283579235789257\", \"32652983572985729\"))"
   ]
  },
  {
   "cell_type": "markdown",
   "id": "1cf49967",
   "metadata": {},
   "source": [
    "### 5. lPaeesh le pemu mnxit ehess rtnisg! Oh, sorry, that was supposed to say: Please help me unmix these strings!\n",
    "\n",
    "    Somehow my strings have all become mixed up; every pair of characters has been swapped. Help me undo this so I can understand my strings again.\n",
    "    Examples\n",
    "    unmix(\"123456\") ➞ \"214365\"\n",
    "    unmix(\"hTsii  s aimex dpus rtni.g\") ➞ \"This is a mixed up string.\"\n",
    "    unmix(\"badce\") ➞ \"abcde\""
   ]
  },
  {
   "cell_type": "code",
   "execution_count": 8,
   "id": "5a2bb4c7",
   "metadata": {},
   "outputs": [
    {
     "name": "stdout",
     "output_type": "stream",
     "text": [
      "214365\n",
      "This is a mixed up string.\n",
      "abcde\n"
     ]
    }
   ],
   "source": [
    "def unmix(s):\n",
    "    s=''.join([ s[x:x+2][::-1] for x in range(0, len(s), 2) ])\n",
    "    return s\n",
    "        \n",
    "print(unmix(\"123456\"))\n",
    "print(unmix(\"hTsii  s aimex dpus rtni.g\"))\n",
    "print(unmix(\"badce\"))"
   ]
  },
  {
   "cell_type": "code",
   "execution_count": null,
   "id": "28778d9e",
   "metadata": {},
   "outputs": [],
   "source": []
  }
 ],
 "metadata": {
  "kernelspec": {
   "display_name": "Python 3",
   "language": "python",
   "name": "python3"
  },
  "language_info": {
   "codemirror_mode": {
    "name": "ipython",
    "version": 3
   },
   "file_extension": ".py",
   "mimetype": "text/x-python",
   "name": "python",
   "nbconvert_exporter": "python",
   "pygments_lexer": "ipython3",
   "version": "3.8.8"
  }
 },
 "nbformat": 4,
 "nbformat_minor": 5
}
