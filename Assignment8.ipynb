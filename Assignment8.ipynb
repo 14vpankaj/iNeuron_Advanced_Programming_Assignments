{
 "cells": [
  {
   "cell_type": "markdown",
   "id": "3469aff1",
   "metadata": {},
   "source": [
    "### 1. Given a sentence as txt, return True if any two adjacent words have this property: One word ends with a vowel, while the word immediately after begins with a vowel (a e i o u).\n",
    "\n",
    "    Examples\n",
    "    vowel_links(\"a very large appliance\") ➞ True\n",
    "    vowel_links(\"go to edabit\") ➞ True\n",
    "    vowel_links(\"an open fire\") ➞ False\n",
    "    vowel_links(\"a sudden applause\") ➞ False"
   ]
  },
  {
   "cell_type": "code",
   "execution_count": 1,
   "id": "43029ee5",
   "metadata": {},
   "outputs": [
    {
     "name": "stdout",
     "output_type": "stream",
     "text": [
      "True\n",
      "True\n",
      "False\n",
      "False\n"
     ]
    }
   ],
   "source": [
    "def vowel_links(txt):   \n",
    "\n",
    "    vowel = 'aeiou'                        \n",
    "    lst = txt.split(\" \")                   \n",
    "\n",
    "    found = False                          \n",
    "    i = 0\n",
    "    j = 0\n",
    "    while i < len(lst)-1:                  \n",
    "        j = i + 1    \n",
    "        vl = lst[i][-1]\n",
    "        vf = lst[j][0]\n",
    "        if vl in vowel and vf in vowel: \n",
    "            found = True\n",
    "        i += 1\n",
    "        j += 1\n",
    "    return found\n",
    "        \n",
    "print(vowel_links(\"a very large appliance\"))\n",
    "print(vowel_links(\"go to edabit\"))\n",
    "print(vowel_links(\"an open fire\"))\n",
    "print(vowel_links(\"a sudden applause\"))"
   ]
  },
  {
   "cell_type": "markdown",
   "id": "274db073",
   "metadata": {},
   "source": [
    "### 2. You are given three inputs: a string, one letter, and a second letter.\n",
    "\n",
    "Write a function that returns True if every instance of the first letter occurs before every instance of the second letter.\n",
    "\n",
    "    Examples\n",
    "    first_before_second(\"a rabbit jumps joyfully\", \"a\", \"j\") ➞ True\n",
    "    # Every instance of \"a\" occurs before every instance of \"j\".\n",
    "    first_before_second(\"knaves knew about waterfalls\", \"k\", \"w\") ➞  True\n",
    "    first_before_second(\"happy birthday\", \"a\", \"y\") ➞ False\n",
    "    # The \"a\" in \"birthday\" occurs after the \"y\" in \"happy\".\n",
    "    first_before_second(\"precarious kangaroos\", \"k\", \"a\") ➞ False"
   ]
  },
  {
   "cell_type": "code",
   "execution_count": 3,
   "id": "2d4d11a1",
   "metadata": {},
   "outputs": [
    {
     "name": "stdout",
     "output_type": "stream",
     "text": [
      "Indexs of first letter a is/are [0, 3]: \n",
      "Indexs of Second letter j is/are [9, 15]: \n",
      "True\n",
      "Indexs of first letter k is/are [0, 7]: \n",
      "Indexs of Second letter w is/are [10, 18]: \n",
      "True\n",
      "Indexs of first letter a is/are [1, 12]: \n",
      "Indexs of Second letter y is/are [4, 13]: \n",
      "False\n",
      "Indexs of first letter k is/are [11]: \n",
      "Indexs of Second letter a is/are [4, 12, 15]: \n",
      "False\n"
     ]
    }
   ],
   "source": [
    "def findIdx(text,s):\n",
    "    lst= []\n",
    "    for i in range(len(text)):\n",
    "        if (text[i] == s):\n",
    "            lst.append(i)\n",
    "    return lst\n",
    "\n",
    "def findidxDiff(list1,list2):\n",
    "    found = False\n",
    "    for i in list1:\n",
    "        for j in list2:\n",
    "            if i < j :\n",
    "                found = True\n",
    "            else:\n",
    "                found = False\n",
    "                break\n",
    "    return found\n",
    "\n",
    "\n",
    "def first_before_second(text,ch1,ch2):\n",
    "    idxCh1 = findIdx(text,ch1)\n",
    "    idxCh2 = findIdx(text,ch2)\n",
    "    print(\"Indexs of first letter {} is/are {}: \".format(ch1,idxCh1))\n",
    "    print(\"Indexs of Second letter {} is/are {}: \".format(ch2,idxCh2))\n",
    "    return findidxDiff(idxCh1,idxCh2)  \n",
    "\n",
    "print(first_before_second(\"a rabbit jumps joyfully\", \"a\", \"j\"))\n",
    "print(first_before_second(\"knaves knew about waterfalls\", \"k\", \"w\"))\n",
    "print(first_before_second(\"happy birthday\", \"a\", \"y\"))\n",
    "print(first_before_second(\"precarious kangaroos\", \"k\", \"a\"))"
   ]
  },
  {
   "cell_type": "markdown",
   "id": "17f3780d",
   "metadata": {},
   "source": [
    "### 3. Create a function that returns the characters from a list or string r on odd or even positions, depending on the specifier s. The specifier will be \"odd\" for items on odd positions (1, 3, 5, ...) and \"even\" for items on even positions (2, 4, 6, ...).\n",
    "\n",
    "    Examples\n",
    "    char_at_pos([2, 4, 6, 8, 10], \"even\") ➞ [4, 8]\n",
    "    # 4 & 8 occupy the 2nd & 4th positions\n",
    "    char_at_pos(\"EDABIT\", \"odd\") ➞ \"EAI\"\n",
    "    # \"E\", \"A\" and \"I\" occupy the 1st, 3rd and 5th positions\n",
    "    char_at_pos([\"A\", \"R\", \"B\", \"I\", \"T\", \"R\", \"A\", \"R\", \"I\", \"L\", \"Y\"], \"odd\") ➞ [\"A\", \"B\", \"T\", \"A\", \"I\", \"Y\"]"
   ]
  },
  {
   "cell_type": "code",
   "execution_count": 4,
   "id": "c5ff0c61",
   "metadata": {},
   "outputs": [
    {
     "name": "stdout",
     "output_type": "stream",
     "text": [
      "[4, 8]\n",
      "EAI\n",
      "['A', 'B', 'T', 'A', 'I', 'Y']\n"
     ]
    }
   ],
   "source": [
    "def char_at_pos(data,specifier):\n",
    "\n",
    "    resultlist = []\n",
    "    if specifier == 'odd':\n",
    "        for i in range(len(data)):\n",
    "            i = i+1\n",
    "            if i % 2 != 0 :\n",
    "                resultlist.append(data[i-1])\n",
    "    elif specifier == 'even':\n",
    "        for i in range(len(data)):\n",
    "            i = i+1\n",
    "            if i % 2 == 0 :\n",
    "                resultlist.append(data[i-1])\n",
    "\n",
    "    if type(data) == str:\n",
    "        return ''.join(resultlist)\n",
    "    else:\n",
    "        return resultlist\n",
    "\n",
    "print(char_at_pos([2, 4, 6, 8, 10], \"even\"))\n",
    "print(char_at_pos(\"EDABIT\", \"odd\"))\n",
    "print(char_at_pos([\"A\", \"R\", \"B\", \"I\", \"T\", \"R\", \"A\", \"R\", \"I\", \"L\", \"Y\"], \"odd\"))"
   ]
  },
  {
   "cell_type": "markdown",
   "id": "202299b9",
   "metadata": {},
   "source": [
    "### 4. Write a function that returns the greatest common divisor of all list elements. If the greatest common divisor is 1, return 1.\n",
    "\n",
    "    Examples\n",
    "    GCD([10, 20, 40]) ➞ 10\n",
    "    GCD([1, 2, 3, 100]) ➞ 1\n",
    "    GCD([1024, 192, 2048, 512]) ➞ 64"
   ]
  },
  {
   "cell_type": "code",
   "execution_count": 5,
   "id": "899d24f3",
   "metadata": {},
   "outputs": [
    {
     "name": "stdout",
     "output_type": "stream",
     "text": [
      "10\n",
      "1\n",
      "64\n"
     ]
    }
   ],
   "source": [
    "def find_gcd(x, y):\n",
    "    while(y):\n",
    "        x, y = y, x % y  \n",
    "    return x      \n",
    "      \n",
    "def GCD(data):\n",
    "    \n",
    "    num1=data[0]\n",
    "    num2=data[1]\n",
    "    gcd=find_gcd(num1,num2)\n",
    "\n",
    "    for i in range(2,len(data)):\n",
    "        gcd=find_gcd(gcd,data[i])\n",
    "\n",
    "    return gcd\n",
    "\n",
    "print(GCD([10, 20, 40]))\n",
    "print(GCD([1, 2, 3, 100]))\n",
    "print(GCD([1024, 192, 2048, 512]))"
   ]
  },
  {
   "cell_type": "markdown",
   "id": "d13d1807",
   "metadata": {},
   "source": [
    "### Question 5\n",
    "\n",
    "    5. A number/string is a palindrome if the digits/characters are the same when\n",
    "    read both forward and backward. Examples include 'racecar' and 12321.\n",
    "    Given a positive number n, check if n or the binary representation of n is\n",
    "    palindromic. Return the following:\n",
    "    - 'Decimal only.' if only n is a palindrome.\n",
    "    - 'Binary only.' if only the binary representation of n is a palindrome.\n",
    "    - 'Decimal and binary.' if both are palindromes.\n",
    "    - 'Neither!' if neither are palindromes.\n",
    "    Examples\n",
    "    palindrome_type(1306031) ➞ 'Decimal only.'\n",
    "    # decimal = 1306031\n",
    "    # binary = '100111110110110101111'\n",
    "    palindrome_type(427787) ➞ 'Binary only.'\n",
    "    # decimal = 427787\n",
    "    # binary = '1101000011100001011'\n",
    "    palindrome_type(313) ➞ 'Decimal and binary.'\n",
    "    # decimal = 313\n",
    "    # binary = 100111001\n",
    "    palindrome_type(934) ➞ 'Neither!'\n",
    "    # decimal = 934\n",
    "    # binary = '1110100110'"
   ]
  },
  {
   "cell_type": "code",
   "execution_count": 9,
   "id": "b2af5e10",
   "metadata": {},
   "outputs": [],
   "source": [
    "def is_symmetrical(num):\n",
    "    currentDigit = reversedDigit = 0\n",
    "    remainingNum = num\n",
    "    while(remainingNum != 0):\n",
    "\n",
    "        currentDigit = remainingNum % 10\n",
    "\n",
    "        reversedDigit = reversedDigit * 10 + currentDigit\n",
    "        remainingNum = remainingNum // 10\n",
    "\n",
    "    if reversedDigit == num:\n",
    "        print('Num {} is palindromic'.format(num))\n",
    "        return True\n",
    "    else:\n",
    "        print('Num {} is not palindromic'.format(num))\n",
    "        return False\n",
    "\n",
    "def palindrome_type(num):\n",
    "    \n",
    "    binNum = int(str(bin(num))[2::]) # change num to bin number\n",
    "    print(\"The number - \", num)\n",
    "    print(num,\" in binary\", binNum)\n",
    "    decCheck = is_symmetrical(num)\n",
    "    binCheck = is_symmetrical(binNum)\n",
    "    msg = ''\n",
    "    if decCheck and binCheck:\n",
    "        msg = 'Decimal and binary.'\n",
    "    elif decCheck and not binCheck:\n",
    "        msg = 'Decimal only.'\n",
    "    elif not decCheck and binCheck:\n",
    "        msg = 'Binary only.'\n",
    "    else:\n",
    "        msg = 'Neither!'\n",
    "\n",
    "    return msg"
   ]
  },
  {
   "cell_type": "code",
   "execution_count": 10,
   "id": "2a390fa4",
   "metadata": {},
   "outputs": [
    {
     "name": "stdout",
     "output_type": "stream",
     "text": [
      "The number -  1306031\n",
      "1306031  in binary 100111110110110101111\n",
      "Num 1306031 is palindromic\n",
      "Num 100111110110110101111 is not palindromic\n"
     ]
    },
    {
     "data": {
      "text/plain": [
       "'Decimal only.'"
      ]
     },
     "execution_count": 10,
     "metadata": {},
     "output_type": "execute_result"
    }
   ],
   "source": [
    "palindrome_type(1306031)"
   ]
  },
  {
   "cell_type": "code",
   "execution_count": 13,
   "id": "86fddf88",
   "metadata": {},
   "outputs": [
    {
     "name": "stdout",
     "output_type": "stream",
     "text": [
      "The number -  427787\n",
      "427787  in binary 1101000011100001011\n",
      "Num 427787 is not palindromic\n",
      "Num 1101000011100001011 is palindromic\n"
     ]
    },
    {
     "data": {
      "text/plain": [
       "'Binary only.'"
      ]
     },
     "execution_count": 13,
     "metadata": {},
     "output_type": "execute_result"
    }
   ],
   "source": [
    "palindrome_type(427787)"
   ]
  },
  {
   "cell_type": "code",
   "execution_count": 14,
   "id": "d3a3adc4",
   "metadata": {},
   "outputs": [
    {
     "name": "stdout",
     "output_type": "stream",
     "text": [
      "The number -  313\n",
      "313  in binary 100111001\n",
      "Num 313 is palindromic\n",
      "Num 100111001 is palindromic\n"
     ]
    },
    {
     "data": {
      "text/plain": [
       "'Decimal and binary.'"
      ]
     },
     "execution_count": 14,
     "metadata": {},
     "output_type": "execute_result"
    }
   ],
   "source": [
    "palindrome_type(313)"
   ]
  },
  {
   "cell_type": "code",
   "execution_count": 15,
   "id": "79139860",
   "metadata": {},
   "outputs": [
    {
     "name": "stdout",
     "output_type": "stream",
     "text": [
      "The number -  934\n",
      "934  in binary 1110100110\n",
      "Num 934 is not palindromic\n",
      "Num 1110100110 is not palindromic\n"
     ]
    },
    {
     "data": {
      "text/plain": [
       "'Neither!'"
      ]
     },
     "execution_count": 15,
     "metadata": {},
     "output_type": "execute_result"
    }
   ],
   "source": [
    "palindrome_type(934)"
   ]
  },
  {
   "cell_type": "code",
   "execution_count": null,
   "id": "d51df4cc",
   "metadata": {},
   "outputs": [],
   "source": []
  }
 ],
 "metadata": {
  "kernelspec": {
   "display_name": "Python 3",
   "language": "python",
   "name": "python3"
  },
  "language_info": {
   "codemirror_mode": {
    "name": "ipython",
    "version": 3
   },
   "file_extension": ".py",
   "mimetype": "text/x-python",
   "name": "python",
   "nbconvert_exporter": "python",
   "pygments_lexer": "ipython3",
   "version": "3.8.8"
  }
 },
 "nbformat": 4,
 "nbformat_minor": 5
}
